{
 "cells": [
  {
   "cell_type": "markdown",
   "metadata": {},
   "source": [
    "# 3.7 Nested Conditional Statements\n",
    "- Nested conditional statements consist of conditional statements within other conditional statements\n",
    "- Utilizes If Else statements within If Else statements \n",
    "\n",
    "- Basics of a nested conditional:       \n",
    "![]({{ site.baseurl }}/images/nesteddiagram.png \"https://github.com/fastai/fastpages\")\n",
    "\n",
    "- Block Coding Visual of Nested Conditionals\n",
    "![]({{ site.baseurl }}/images/blockednested.png \"https://github.com/fastai/fastpages\")\n",
    "\n",
    "- Example Psuedocode of Nested Conditional Statements\n",
    "![]({{ site.baseurl }}/images/conditionalcode.png \"https://github.com/fastai/fastpages\")\n",
    "\n",
    "# Analyzing and Editing Code Walkthrough\n",
    "- Psuedocode to the left, block code to the right\n",
    "- Approach the problem by going through each condition one at a time\n",
    "    - Decide which ones are false to skip and which ones are true to execute\n",
    "\n",
    "- You Try:\n",
    "![]({{ site.baseurl }}/images/analyze2.png \"https://github.com/fastai/fastpages\")\n",
    "\n",
    "- Lets try todo this with some actual code:\n",
    "1. Determine the result of these blocks code \n",
    "2. After you do that change it so theres a different result you anticipate afterwards!"
   ]
  },
  {
   "cell_type": "code",
   "execution_count": 1,
   "metadata": {},
   "outputs": [
    {
     "name": "stdout",
     "output_type": "stream",
     "text": [
      "Please come to retake up to a 90 next week at tutorial!\n"
     ]
    }
   ],
   "source": [
    "score = 82\n",
    "if (score >= 90) \n",
    "{\n",
    "    console.log (\"You got an A congrats!\")\n",
    "}\n",
    "else \n",
    "{\n",
    "    if (score >= 75)\n",
    "    {\n",
    "    console.log (\"Please come to retake up to a 90 next week at tutorial!\")\n",
    "    }\n",
    "    else \n",
    "    {\n",
    "    console.log (\"You have detention!\")\n",
    "    }\n",
    "}"
   ]
  },
  {
   "cell_type": "code",
   "execution_count": 2,
   "metadata": {},
   "outputs": [
    {
     "name": "stdout",
     "output_type": "stream",
     "text": [
      "Looks great but lets see if we can cut down on sugar, we don't want diabetes!\n"
     ]
    }
   ],
   "source": [
    "protein = 25\n",
    "carbs = 36\n",
    "sugar = 11\n",
    "if (carbs >= 55 || protein <= 20 || sugar >= 15)\n",
    "{\n",
    "    console.log (\"Your lunch is too unhealthy, please pick a new one\")\n",
    "}\n",
    "else \n",
    "{\n",
    "    if (carbs < 35 || protein < 25)\n",
    "    {\n",
    "    console.log (\"This lunch is alright but try to add some more carbs or protein\")\n",
    "    }\n",
    "    else \n",
    "    {\n",
    "    if (sugar >= 11)\n",
    "    {\n",
    "    console.log (\"Looks great but lets see if we can cut down on sugar, we don't want diabetes!\")\n",
    "    }\n",
    "    else\n",
    "    {\n",
    "        console.log (\"Amazing, you created a healthy lunch!!!\")\n",
    "    }\n",
    "    }\n",
    "}"
   ]
  },
  {
   "cell_type": "markdown",
   "metadata": {},
   "source": [
    "## Your Activites:\n",
    "1. Write a program that fits these conditions using nested conditionals:\n",
    "    - If a person has at least 8 hours, they are experienced\n",
    "    - If a person is experienced their salary is 90k, if they have ten hours or above their salary 150k\n",
    "    - If a person is inexperienced their salary is always 50k\n",
    "    - print the salary of the person at the end and whether they are experienced or not\n",
    "\n",
    "2. Write a program that fits these conditions using nested conditionals:\n",
    "    - If the product is expired, print \"this product is no good\"\n",
    "    - If the cost is above 50 dollars, and the product isn't expired, print \"this product is too expensive\"\n",
    "    - If the cost is 25 dollars but under 50, and the product expired, print \"this is a regular product\"\n",
    "    - If the cost is under 25 dollars, print \"this is a cheap product\"\n"
   ]
  },
  {
   "cell_type": "code",
   "execution_count": 3,
   "metadata": {},
   "outputs": [
    {
     "name": "stdout",
     "output_type": "stream",
     "text": [
      "Experienced, Salary is 90k.\n"
     ]
    }
   ],
   "source": [
    "hours = 8\n",
    "\n",
    "if (hours < 8)\n",
    "{\n",
    "    console.log (\"Inexperienced, Salary is 50k.\")\n",
    "}\n",
    "else \n",
    "{\n",
    "    if (hours >= 10)\n",
    "    {\n",
    "    console.log (\"Experienced, Salary is 150k.\")\n",
    "    }\n",
    "    else \n",
    "    {\n",
    "    console.log (\"Experienced, Salary is 909.\")\n",
    "    }\n",
    "}"
   ]
  }
 ],
 "metadata": {
  "kernelspec": {
   "display_name": "JavaScript (Node.js)",
   "language": "javascript",
   "name": "javascript"
  },
  "language_info": {
   "file_extension": ".js",
   "mimetype": "application/javascript",
   "name": "javascript",
   "version": "6.11.2"
  },
  "orig_nbformat": 4,
  "vscode": {
   "interpreter": {
    "hash": "916dbcbb3f70747c44a77c7bcd40155683ae19c65e1c03b4aa3499c5328201f1"
   }
  }
 },
 "nbformat": 4,
 "nbformat_minor": 2
}
