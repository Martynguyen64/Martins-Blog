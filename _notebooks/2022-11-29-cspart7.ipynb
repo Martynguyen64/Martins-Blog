{
 "cells": [
  {
   "cell_type": "markdown",
   "metadata": {},
   "source": [
    "# 3.7 Nested Conditional Statements\n",
    "- Nested conditional statements consist of conditional statements within other conditional statements\n",
    "- Utilizes If Else statements within If Else statements \n",
    "\n",
    "- Basics of a nested conditional:       \n",
    "![]({{ site.baseurl }}/images/nesteddiagram.png \"https://github.com/fastai/fastpages\")\n",
    "\n",
    "- Block Coding Visual of Nested Conditionals\n",
    "![]({{ site.baseurl }}/images/blockednested.png \"https://github.com/fastai/fastpages\")\n",
    "\n",
    "- Example Syntax of Nested Conditional Statements\n",
    "![]({{ site.baseurl }}/images/conditionalcode.png \"https://github.com/fastai/fastpages\")\n",
    "\n",
    "# Analyzing Code Walkthrough\n",
    "- Syntax to the left, block code to the right\n",
    "- Approach the problem by going through each condition one at a time\n",
    "    - Decide which ones are false to skip and which ones are true to execute\n",
    "\n",
    "- Demonstration:\n",
    "\n",
    "- You Try:\n",
    "![]({{ site.baseurl }}/images/analyze2.png \"https://github.com/fastai/fastpages\")\n",
    "\n",
    "\n",
    "\n",
    "\n",
    "\n"
   ]
  }
 ],
 "metadata": {
  "kernelspec": {
   "display_name": "Python 3.8.10 64-bit",
   "language": "python",
   "name": "python3"
  },
  "language_info": {
   "name": "python",
   "version": "3.8.10"
  },
  "orig_nbformat": 4,
  "vscode": {
   "interpreter": {
    "hash": "916dbcbb3f70747c44a77c7bcd40155683ae19c65e1c03b4aa3499c5328201f1"
   }
  }
 },
 "nbformat": 4,
 "nbformat_minor": 2
}
