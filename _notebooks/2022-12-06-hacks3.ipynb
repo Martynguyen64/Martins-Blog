{
 "cells": [
  {
   "cell_type": "markdown",
   "metadata": {},
   "source": [
    "# 3.8 and 3.10 Hacks\n",
    "- title : 3.8 and 3.10 Hacks\n",
    "- toc: true \n",
    "- badges: true\n",
    "- comments: true"
   ]
  },
  {
   "cell_type": "code",
   "execution_count": 30,
   "metadata": {},
   "outputs": [
    {
     "name": "stdout",
     "output_type": "stream",
     "text": [
      "Input: lebron\n",
      "lima\n",
      "echo\n",
      "bravo\n",
      "romeo\n",
      "oscar\n",
      "november\n"
     ]
    }
   ],
   "source": [
    "words = [\"alfa\", \"bravo\", \"charlie\", \"delta\", \"echo\", \"foxtrot\", \"golf\", \"hotel\", \"india\", \"juliet\", \"kilo\",\n",
    "\"lima\", \"mike\", \"november\", \"oscar\", \"papa\", \"quebec\", \"romeo\", \"sierra\", \"tango\", \"uniform\", \"victor\", \"whiskey\", \"xray\", \"yankee\", \"zulu\"]\n",
    "\n",
    "inp = input().lower()\n",
    "\n",
    "print(\"Input:\", inp)\n",
    "\n",
    "for i in inp:\n",
    "    for n in words:\n",
    "        if i == n[0]:\n",
    "            print (n)"
   ]
  },
  {
   "cell_type": "code",
   "execution_count": 33,
   "metadata": {},
   "outputs": [
    {
     "name": "stdout",
     "output_type": "stream",
     "text": [
      "1 2 3\n",
      "4 5 6\n",
      "7 8 9\n",
      "  0  \n"
     ]
    }
   ],
   "source": [
    "keypad =   [[\"1\", \"2\", \"3\"],\n",
    "            [\"4\", \"5\", \"6\"],\n",
    "            [\"7\", \"8\", \"9\"],\n",
    "            [\" \", \"0\", \" \"]]\n",
    "\n",
    "m = 0\n",
    "while m < len(keypad):\n",
    "    print(*keypad[m])\n",
    "    m = m + 1"
   ]
  },
  {
   "cell_type": "code",
   "execution_count": 29,
   "metadata": {},
   "outputs": [
    {
     "name": "stdout",
     "output_type": "stream",
     "text": [
      "My birth month: October\n",
      "My age: 15\n"
     ]
    }
   ],
   "source": [
    "keyboard = [[\"`\", 1, 2, 3, 4, 5, 6, 7, 8, 9, 0, \"-\", \"=\"],\n",
    "            [\"Q\", \"W\", \"E\", \"R\", \"T\", \"Y\", \"U\", \"I\", \"O\", \"P\", \"[\", \"]\"],\n",
    "            [\"A\", \"S\", \"D\", \"F\", \"G\", \"H\", \"J\", \"K\", \"L\", \";\", \"'\"],\n",
    "            [\"Z\", \"X\", \"C\", \"V\", \"B\", \"N\", \"M\", \",\", \".\", \"/\"]]\n",
    "\n",
    "month = keyboard[1][8] + keyboard[3][2] + keyboard[1][4] + keyboard[1][8] + keyboard[3][4] + keyboard[1][2] + keyboard[1][3]\n",
    "age = str(keyboard[0][1]) + str(keyboard[0][5])\n",
    "\n",
    "\n",
    "print(\"My birth month: \" + month[:1] + month[1:].lower())\n",
    "print(\"My age: \" + age)"
   ]
  }
 ],
 "metadata": {
  "kernelspec": {
   "display_name": "Python 3.8.10 64-bit",
   "language": "python",
   "name": "python3"
  },
  "language_info": {
   "codemirror_mode": {
    "name": "ipython",
    "version": 3
   },
   "file_extension": ".py",
   "mimetype": "text/x-python",
   "name": "python",
   "nbconvert_exporter": "python",
   "pygments_lexer": "ipython3",
   "version": "3.8.10"
  },
  "orig_nbformat": 4,
  "vscode": {
   "interpreter": {
    "hash": "916dbcbb3f70747c44a77c7bcd40155683ae19c65e1c03b4aa3499c5328201f1"
   }
  }
 },
 "nbformat": 4,
 "nbformat_minor": 2
}
