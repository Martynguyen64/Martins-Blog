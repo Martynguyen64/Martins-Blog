{
 "cells": [
  {
   "attachments": {},
   "cell_type": "markdown",
   "metadata": {},
   "source": [
    "# 3.16 Hacks\n",
    "- title : 3.16 Hacks\n",
    "- toc: true \n",
    "- badges: true\n",
    "- comments: true"
   ]
  },
  {
   "cell_type": "code",
   "execution_count": 6,
   "metadata": {},
   "outputs": [
    {
     "name": "stdout",
     "output_type": "stream",
     "text": [
      "Roll 1: 3\n",
      "Roll 2: 5\n",
      "Roll 3: 5\n",
      "Roll 4: 2\n",
      "Roll 5: 4\n",
      "Roll 6: 2\n"
     ]
    }
   ],
   "source": [
    "import random\n",
    "\n",
    "# Roll a six-sided dice and return the result\n",
    "def roll_dice():\n",
    "  return random.randint(1, 6)\n",
    "\n",
    "# Prompt the user for the number of dice rolls\n",
    "num_rolls = int(input(\"Enter the number of times you want to roll the dice: \"))\n",
    "\n",
    "# Simulate rolling the dice the specified number of times and print the results\n",
    "for i in range(num_rolls):\n",
    "  result = roll_dice()\n",
    "  print(f\"Roll {i + 1}: {result}\")"
   ]
  },
  {
   "attachments": {},
   "cell_type": "markdown",
   "metadata": {},
   "source": [
    "# Simulation Example\n",
    "This is a simulation because you can modify the different settings to adjust the trajectory of the missle.\n",
    "These factors consist of height, vectors, speed, etc.\n",
    "This is a simualtion because its an output the user uses."
   ]
  }
 ],
 "metadata": {
  "kernelspec": {
   "display_name": "Python 3",
   "language": "python",
   "name": "python3"
  },
  "language_info": {
   "codemirror_mode": {
    "name": "ipython",
    "version": 3
   },
   "file_extension": ".py",
   "mimetype": "text/x-python",
   "name": "python",
   "nbconvert_exporter": "python",
   "pygments_lexer": "ipython3",
   "version": "3.8.10 (default, Jun 22 2022, 20:18:18) \n[GCC 9.4.0]"
  },
  "orig_nbformat": 4,
  "vscode": {
   "interpreter": {
    "hash": "916dbcbb3f70747c44a77c7bcd40155683ae19c65e1c03b4aa3499c5328201f1"
   }
  }
 },
 "nbformat": 4,
 "nbformat_minor": 2
}
