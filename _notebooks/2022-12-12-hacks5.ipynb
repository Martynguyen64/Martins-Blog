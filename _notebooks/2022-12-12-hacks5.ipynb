{
 "cells": [
  {
   "attachments": {},
   "cell_type": "markdown",
   "metadata": {},
   "source": [
    "# 3.12 and 3.13 Hacks\n",
    "- title : 3.12 and 3.13 Hacks\n",
    "- toc: true \n",
    "- badges: true\n",
    "- comments: true"
   ]
  },
  {
   "cell_type": "code",
   "execution_count": null,
   "metadata": {},
   "outputs": [],
   "source": [
    "Here is an example of a Python procedure that could be useful in a school setting:\n",
    "\n",
    "Copy code\n",
    "def calculate_average_grade(grades):\n",
    "    \"\"\"\n",
    "    This procedure calculates the average grade for a given list of grades.\n",
    "    It takes in a list of grades as input and returns the average grade as output.\n",
    "    \"\"\"\n",
    "    total_grade = 0\n",
    "    for grade in grades:\n",
    "        total_grade += grade\n",
    "    average_grade = total_grade / len(grades)\n",
    "    return average_grade\n",
    "\n",
    "# Example usage:\n",
    "grades = [90, 80, 70, 60]\n",
    "average = calculate_average_grade(grades)\n",
    "print(average) # Output: 75.0"
   ]
  },
  {
   "attachments": {},
   "cell_type": "markdown",
   "metadata": {},
   "source": [
    "To call this procedure, we would simply need to use the syntax calculate_average_grade(grades), where grades is a list of grades that we want to calculate the average for. This procedure could be useful for a student or a teacher to quickly and easily calculate the average grade for a given set of grades."
   ]
  },
  {
   "cell_type": "code",
   "execution_count": null,
   "metadata": {},
   "outputs": [],
   "source": [
    "def calculate_letter_grade(grade):\n",
    "    \"\"\"\n",
    "    This procedure calculates the letter grade for a given numeric grade.\n",
    "    It takes in a numeric grade as input and returns the corresponding letter grade as output.\n",
    "    \"\"\"\n",
    "    if grade >= 90:\n",
    "        return \"A\"\n",
    "    elif grade >= 80:\n",
    "        return \"B\"\n",
    "    elif grade >= 70:\n",
    "        return \"C\"\n",
    "    elif grade >= 60:\n",
    "        return \"D\"\n",
    "    else:\n",
    "        return \"F\"\n",
    "\n",
    "# Example usage:\n",
    "numeric_grade = 87\n",
    "letter_grade = calculate_letter_grade(numeric_grade)\n",
    "print(letter_grade) # Output: \"B\""
   ]
  },
  {
   "attachments": {},
   "cell_type": "markdown",
   "metadata": {},
   "source": [
    "To call this procedure, we would simply need to use the syntax calculate_letter_grade(numeric_grade), where numeric_grade is a numeric grade that we want to convert to a letter grade. This procedure could be useful for a student or a teacher to quickly and easily convert a numeric grade to a letter grade.\n",
    "\n",
    "\n",
    "\n"
   ]
  },
  {
   "attachments": {},
   "cell_type": "markdown",
   "metadata": {},
   "source": [
    "# Notes Calling and Developing Procedures\n",
    "Calling Procedures\n",
    "Slide 1:\n",
    "- A procedure is a named group of programming instructions that may have parameters and return values.\n",
    "Procedures are referred to by different names, such as method or functions, depending on the programing language.\n",
    "Parameters are input values of a procedure. Arguments specify the values of the parameters when procedure is called.\n",
    "- A procedure call interrupts the sequential execution of statements causing the program to execute the statements within the procedure before continuing. One the last statement in the procedure (or a return statement) has executed, flow or control is returned to the point immediately following where the procedure was called.\n",
    "Slide 2:\n",
    "- When calling procedures, it's important to take notice to whether it returns data, or a block of statements.\n",
    "- If the procedure just returns a block of statements, you call the procedure by referring to the procedure name, and inputting the arguments.\n",
    "- If the procedure returns some sort of data like a boolean or value, then you will assign that value to a variable\n",
    "Slide 3:\n",
    "- Assume the Temperature outside is Fahrenheit.\n",
    "- The procedure convertFahrenheit is intended to convert from Fahrenheit to Celsius.\n",
    "- Convert the following psuedocode to python"
   ]
  },
  {
   "cell_type": "code",
   "execution_count": 5,
   "metadata": {},
   "outputs": [
    {
     "name": "stdout",
     "output_type": "stream",
     "text": [
      "32.22222222222222\n"
     ]
    }
   ],
   "source": [
    "def convertFahrenheit(temperature):\n",
    "    celsius = temperature - 32\n",
    "    celsius = celsius * 5/9\n",
    "    return celsius\n",
    "\n",
    "outsideTemp = input(\"What is the temperature outside?\")\n",
    "outsideTemp = (convertFahrenheit(int(outsideTemp)))\n",
    "print(outsideTemp)"
   ]
  },
  {
   "attachments": {},
   "cell_type": "markdown",
   "metadata": {},
   "source": [
    "Developing Procedures\n",
    "Slide 8:\n",
    "Picking a descriptive name is important in case you revisit the code later on (separate words with capitals) There are 2 different types of procedures- ones that return a value and those that simply execute a block of statements Steps of developing procedure: picking a useful name, thinking of parameters (what data does the procedure need to know), making a flowchart or writing procedure in pseudocode, and actually developing the procedure.\n",
    "\n",
    "Slide 9:\n",
    "In this example, a teacher is writing a program that will replace the grade on a previous quiz if the new grade is better than the previous.\n",
    "- What would be a good name for this procedure?\n",
    "- What parameters do we need for this procedure?\n",
    "- Try writing this procedure out in python based on the given pseudocode"
   ]
  },
  {
   "cell_type": "code",
   "execution_count": 3,
   "metadata": {},
   "outputs": [
    {
     "name": "stdout",
     "output_type": "stream",
     "text": [
      "your new grade is: 152.27272727272728\n"
     ]
    }
   ],
   "source": [
    "quizGrade = 32\n",
    "def currentGrade(currentPoints):    \n",
    "    currentGrade = currentPoints / 44\n",
    "    currentGrade = currentGrade * 100\n",
    "    return currentGrade\n",
    "\n",
    "newPoints = int(input(\"how many points do you currently have?\"))\n",
    "newPercent = (currentGrade(int(newPoints)))\n",
    "\n",
    "if (newPoints > quizGrade):\n",
    "    newquizGrade = newPercent\n",
    "    print(\"your new grade is: \" + str(newquizGrade))\n",
    "else:\n",
    "    print(\"your score is still \" + str(quizGrade))"
   ]
  },
  {
   "attachments": {},
   "cell_type": "markdown",
   "metadata": {},
   "source": [
    "Procedural Abstraction\n",
    "- One type of abstraction is __ abstraction which provides a name for a process and allows a procedure to be used only knowing what it does and not how it does it\n",
    "- This is very helpful in managing __ in a program\n",
    "- Subdivision of a program into separate subprograms is called __\n",
    "- A procedural abstraction may __ shared features to generalize functionality instead of duplicating code. This allows for program reuse, which helps manage complexity\n",
    "- When a pre-written procedure is called, you don’t necessarily need to know the details of this, just what it does and how to call it\n",
    "- Simply, procedural abstraction is naming and calling a __ procedure\n",
    "- Making sure to include the right arguments so the __ can do what its supposed to do is crucial\n",
    "Complexity Example\n",
    "One of the biggest advantages of procedural abstraction is managing complexity.\n",
    "\n",
    "Think about the process of simplifying the code? What do you think the advantage of the code segment on the left is?\n",
    "MOVE_FORWARD()|turnCorner()| ROTATE_RIGHT |MOVE_FORWARD()| MOVE_FORWARD()|MOVE_FORWARD()| MOVE_FORWARD() ROTATE_RIGHT() MOVE_FORWARD() ROTATE_LEFT() MOVE_FORWARD() ROTATE_LEFT() MOVE_FORWARD() MOVE_FORWARD MOVE_FORWARD()"
   ]
  }
 ],
 "metadata": {
  "kernelspec": {
   "display_name": "Python 3",
   "language": "python",
   "name": "python3"
  },
  "language_info": {
   "codemirror_mode": {
    "name": "ipython",
    "version": 3
   },
   "file_extension": ".py",
   "mimetype": "text/x-python",
   "name": "python",
   "nbconvert_exporter": "python",
   "pygments_lexer": "ipython3",
   "version": "3.8.10"
  },
  "orig_nbformat": 4,
  "vscode": {
   "interpreter": {
    "hash": "916dbcbb3f70747c44a77c7bcd40155683ae19c65e1c03b4aa3499c5328201f1"
   }
  }
 },
 "nbformat": 4,
 "nbformat_minor": 2
}
