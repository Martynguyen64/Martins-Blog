{
 "cells": [
  {
   "attachments": {},
   "cell_type": "markdown",
   "metadata": {},
   "source": [
    "# 3.12 and 3.13 Hacks\n",
    "- title : 3.12 and 3.13 Hacks\n",
    "- toc: true \n",
    "- badges: true\n",
    "- comments: true"
   ]
  },
  {
   "cell_type": "code",
   "execution_count": null,
   "metadata": {},
   "outputs": [],
   "source": [
    "Here is an example of a Python procedure that could be useful in a school setting:\n",
    "\n",
    "Copy code\n",
    "def calculate_average_grade(grades):\n",
    "    \"\"\"\n",
    "    This procedure calculates the average grade for a given list of grades.\n",
    "    It takes in a list of grades as input and returns the average grade as output.\n",
    "    \"\"\"\n",
    "    total_grade = 0\n",
    "    for grade in grades:\n",
    "        total_grade += grade\n",
    "    average_grade = total_grade / len(grades)\n",
    "    return average_grade\n",
    "\n",
    "# Example usage:\n",
    "grades = [90, 80, 70, 60]\n",
    "average = calculate_average_grade(grades)\n",
    "print(average) # Output: 75.0"
   ]
  },
  {
   "attachments": {},
   "cell_type": "markdown",
   "metadata": {},
   "source": [
    "To call this procedure, we would simply need to use the syntax calculate_average_grade(grades), where grades is a list of grades that we want to calculate the average for. This procedure could be useful for a student or a teacher to quickly and easily calculate the average grade for a given set of grades."
   ]
  },
  {
   "cell_type": "code",
   "execution_count": null,
   "metadata": {},
   "outputs": [],
   "source": [
    "def calculate_letter_grade(grade):\n",
    "    \"\"\"\n",
    "    This procedure calculates the letter grade for a given numeric grade.\n",
    "    It takes in a numeric grade as input and returns the corresponding letter grade as output.\n",
    "    \"\"\"\n",
    "    if grade >= 90:\n",
    "        return \"A\"\n",
    "    elif grade >= 80:\n",
    "        return \"B\"\n",
    "    elif grade >= 70:\n",
    "        return \"C\"\n",
    "    elif grade >= 60:\n",
    "        return \"D\"\n",
    "    else:\n",
    "        return \"F\"\n",
    "\n",
    "# Example usage:\n",
    "numeric_grade = 87\n",
    "letter_grade = calculate_letter_grade(numeric_grade)\n",
    "print(letter_grade) # Output: \"B\""
   ]
  },
  {
   "attachments": {},
   "cell_type": "markdown",
   "metadata": {},
   "source": [
    "To call this procedure, we would simply need to use the syntax calculate_letter_grade(numeric_grade), where numeric_grade is a numeric grade that we want to convert to a letter grade. This procedure could be useful for a student or a teacher to quickly and easily convert a numeric grade to a letter grade.\n",
    "\n",
    "\n",
    "\n"
   ]
  }
 ],
 "metadata": {
  "kernelspec": {
   "display_name": "Python 3",
   "language": "python",
   "name": "python3"
  },
  "language_info": {
   "name": "python",
   "version": "3.8.10 (default, Jun 22 2022, 20:18:18) \n[GCC 9.4.0]"
  },
  "orig_nbformat": 4,
  "vscode": {
   "interpreter": {
    "hash": "916dbcbb3f70747c44a77c7bcd40155683ae19c65e1c03b4aa3499c5328201f1"
   }
  }
 },
 "nbformat": 4,
 "nbformat_minor": 2
}
