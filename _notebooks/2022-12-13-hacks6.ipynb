{
 "cells": [
  {
   "attachments": {},
   "cell_type": "markdown",
   "metadata": {},
   "source": [
    "# 3.14 and 3.15 Hacks\n",
    "- title : 3.14 and 3.15 Hacks\n",
    "- toc: true \n",
    "- badges: true\n",
    "- comments: true"
   ]
  },
  {
   "cell_type": "code",
   "execution_count": 1,
   "metadata": {},
   "outputs": [
    {
     "name": "stdout",
     "output_type": "stream",
     "text": [
      "Even numbers: [80, 10, 42, 32]\n",
      "Odd numbers: [37, 33, 79, 61, 77, 97]\n"
     ]
    }
   ],
   "source": [
    "import random\n",
    "\n",
    "def generate_random_numbers(n):\n",
    "    # Create empty lists for even and odd numbers\n",
    "    even_numbers = []\n",
    "    odd_numbers = []\n",
    "\n",
    "    # Generate n random numbers\n",
    "    for i in range(n):\n",
    "        # Generate a random number between 1 and 100\n",
    "        number = random.randint(1, 100)\n",
    "\n",
    "        # If the number is even, add it to the list of even numbers\n",
    "        if number % 2 == 0:\n",
    "            even_numbers.append(number)\n",
    "\n",
    "        # If the number is odd, add it to the list of odd numbers\n",
    "        else:\n",
    "            odd_numbers.append(number)\n",
    "\n",
    "    # Return the lists of even and odd numbers\n",
    "    return even_numbers, odd_numbers\n",
    "\n",
    "# Generate 10 random numbers\n",
    "even_numbers, odd_numbers = generate_random_numbers(10)\n",
    "\n",
    "# Print the lists of even and odd numbers\n",
    "print(\"Even numbers:\", even_numbers)\n",
    "print(\"Odd numbers:\", odd_numbers)"
   ]
  },
  {
   "cell_type": "code",
   "execution_count": null,
   "metadata": {},
   "outputs": [],
   "source": [
    "import numpy as np\n",
    "\n",
    "# Create a NumPy polynomial object representing the function\n",
    "# 2x^5 - 6x^2 + 24x\n",
    "poly = np.poly1d([2, 0, -6, 24, 0])\n",
    "\n",
    "# Find the derivative of the polynomial\n",
    "derivative = np.polyder(poly)\n",
    "\n",
    "# Print the derivative\n",
    "print(derivative)"
   ]
  },
  {
   "cell_type": "code",
   "execution_count": null,
   "metadata": {},
   "outputs": [],
   "source": [
    "import numpy as np\n",
    "\n",
    "# Create a NumPy polynomial object representing the function\n",
    "# (13x^4 + 4x^2) / 2\n",
    "poly = np.poly1d([13, 0, 4, 0, 0], True)\n",
    "\n",
    "# Find the derivative of the polynomial\n",
    "derivative = np.polyder(poly)\n",
    "\n",
    "# Evaluate the derivative at x = 9\n",
    "derivative_at_9 = derivative(9)\n",
    "\n",
    "# Print the derivative at x = 9\n",
    "print(derivative_at_9)"
   ]
  },
  {
   "cell_type": "code",
   "execution_count": 2,
   "metadata": {},
   "outputs": [
    {
     "name": "stdout",
     "output_type": "stream",
     "text": [
      "['cat', 'dog', 'cat', 'cat', 'dog', 'cat', 'dog', 'dog', 'dog', 'cat', 'dog', 'cat', 'cat', 'dog', 'cat', 'cat', 'dog', 'dog', 'dog', 'cat']\n"
     ]
    }
   ],
   "source": [
    "# Create a list of the animals\n",
    "animals = [\"dog\" for _ in range(10)] + [\"cat\" for _ in range(10)]\n",
    "\n",
    "# Use the random.shuffle() function to shuffle the list in place\n",
    "import random\n",
    "random.shuffle(animals)\n",
    "\n",
    "# Print the shuffled list of animals\n",
    "print(animals)"
   ]
  },
  {
   "attachments": {},
   "cell_type": "markdown",
   "metadata": {},
   "source": [
    "This code will generate a list of 20 animals (10 dogs and 10 cats) and then use the random.shuffle() function from the Python random module to shuffle the list in place, resulting in a random order for the animals.  "
   ]
  }
 ],
 "metadata": {
  "kernelspec": {
   "display_name": "Python 3",
   "language": "python",
   "name": "python3"
  },
  "language_info": {
   "codemirror_mode": {
    "name": "ipython",
    "version": 3
   },
   "file_extension": ".py",
   "mimetype": "text/x-python",
   "name": "python",
   "nbconvert_exporter": "python",
   "pygments_lexer": "ipython3",
   "version": "3.8.10 (default, Jun 22 2022, 20:18:18) \n[GCC 9.4.0]"
  },
  "orig_nbformat": 4,
  "vscode": {
   "interpreter": {
    "hash": "916dbcbb3f70747c44a77c7bcd40155683ae19c65e1c03b4aa3499c5328201f1"
   }
  }
 },
 "nbformat": 4,
 "nbformat_minor": 2
}
