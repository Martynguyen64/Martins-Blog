{
 "cells": [
  {
   "attachments": {},
   "cell_type": "markdown",
   "metadata": {},
   "source": [
    "# 3.14 and 3.15 Hacks\n",
    "- title : 3.14 and 3.15 Hacks\n",
    "- toc: true \n",
    "- badges: true\n",
    "- comments: true"
   ]
  },
  {
   "cell_type": "code",
   "execution_count": null,
   "metadata": {},
   "outputs": [],
   "source": [
    "import random\n",
    "\n",
    "def generate_random_numbers(n):\n",
    "    # Create empty lists for even and odd numbers\n",
    "    even_numbers = []\n",
    "    odd_numbers = []\n",
    "\n",
    "    # Generate n random numbers\n",
    "    for i in range(n):\n",
    "        # Generate a random number between 1 and 100\n",
    "        number = random.randint(1, 100)\n",
    "\n",
    "        # If the number is even, add it to the list of even numbers\n",
    "        if number % 2 == 0:\n",
    "            even_numbers.append(number)\n",
    "\n",
    "        # If the number is odd, add it to the list of odd numbers\n",
    "        else:\n",
    "            odd_numbers.append(number)\n",
    "\n",
    "    # Return the lists of even and odd numbers\n",
    "    return even_numbers, odd_numbers\n",
    "\n",
    "# Generate 10 random numbers\n",
    "even_numbers, odd_numbers = generate_random_numbers(10)\n",
    "\n",
    "# Print the lists of even and odd numbers\n",
    "print(\"Even numbers:\", even_numbers)\n",
    "print(\"Odd numbers:\", odd_numbers)\n",
    "This procedure uses the random module to generate random numbers and uses the modulus operator (%) to determine whether each number is even or odd. The even and odd numbers are added to separate lists, which are then returned by the function.\n",
    "\n",
    "\n",
    "\n",
    "\n",
    "Martin Nguyen\n",
    "Using NumPy and only coding in python cell, find the answer to the following questions: a. What is the derivative of 2x^5 - 6x^2 + 24x? b. What is the derivative of (13x^4 + 4x^2) / 2 when x = 9?\n",
    "!\n",
    "network error   "
   ]
  },
  {
   "cell_type": "code",
   "execution_count": null,
   "metadata": {},
   "outputs": [],
   "source": [
    "# Create a list of the animals\n",
    "animals = [\"dog\" for _ in range(10)] + [\"cat\" for _ in range(10)]\n",
    "\n",
    "# Use the random.shuffle() function to shuffle the list in place\n",
    "import random\n",
    "random.shuffle(animals)\n",
    "\n",
    "# Print the shuffled list of animals\n",
    "print(animals)"
   ]
  },
  {
   "attachments": {},
   "cell_type": "markdown",
   "metadata": {},
   "source": [
    "This code will generate a list of 20 animals (10 dogs and 10 cats) and then use the random.shuffle() function from the Python random module to shuffle the list in place, resulting in a random order for the animals.  "
   ]
  }
 ],
 "metadata": {
  "kernelspec": {
   "display_name": "Python 3",
   "language": "python",
   "name": "python3"
  },
  "language_info": {
   "name": "python",
   "version": "3.8.10 (default, Jun 22 2022, 20:18:18) \n[GCC 9.4.0]"
  },
  "orig_nbformat": 4,
  "vscode": {
   "interpreter": {
    "hash": "916dbcbb3f70747c44a77c7bcd40155683ae19c65e1c03b4aa3499c5328201f1"
   }
  }
 },
 "nbformat": 4,
 "nbformat_minor": 2
}
