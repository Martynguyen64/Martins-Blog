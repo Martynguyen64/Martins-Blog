{
 "cells": [
  {
   "attachments": {},
   "cell_type": "markdown",
   "metadata": {},
   "source": [
    "# Vocab for Unit 2/3\n",
    "- title : Unit 2/3 Vocab\n",
    "- toc: true \n",
    "- badges: true\n",
    "- comments: true"
   ]
  },
  {
   "attachments": {},
   "cell_type": "markdown",
   "metadata": {},
   "source": [
    "# Unit 2 Binary/Data Terms\n",
    "- Bits, Bytes, Hexadecimal / Nibbles:\n",
    "    - Bits: the smallest unit of data in a computer, used to represent a boolean value\n",
    "    - Bytes: unit of data that is typically made up of 8 bits, used to represent a single character or symbol in a computer’s memory\n",
    "    - Hexadecimal: a numeral system that uses base 16, used in computing as a way to represent binary data in a more compact and human-readable form\n",
    "    - Nibbles: a unit of data that is made up of 4 bits, used to represent a single hexadecimal digit\n",
    "- Binary Numbers: Unsigned Integer, Signed Integer, Floating Point:\n",
    "    - Unsigned Integer: a positive whole number that can range from 0 to infinity that is determined by the number of bits used to represent the integer\n",
    "    - Signed Integer: can represent both positive and negative whole numbers\n",
    "    - Floating Point: a data type that represents a decimal number\n",
    "- Binary Data Abstractions: Boolean, ASCII, Unicode, RGB:\n",
    "    - Boolean: a data type that has only two possible values, true or false\n",
    "    - ASCII: a standardized character encoding that represents letters, numbers, and other symbols in computers; represent text in computers\n",
    "    - Unicode: a standardized character encoding that represents most of the world’s written languages; includes ASCII and many other characters from different scripts and languages\n",
    "    - RGB: a color model used to represent colors in devices; combination of these three colors in different proportions creates a wide range of colors\n",
    "- Data Compression: Lossy, Lossless:\n",
    "    - Lossy: involves discarding some of the data in the original file in order to reduce its size; used for audio, video, and image files, where some loss of quality is acceptable in exchange for a smaller file size\n",
    "    - Lossless: involves encoding the data in such a way that all of the original information can be recovered when the file is decompressed; used for text, software, and other types of data where it is important to preserve all of the original information"
   ]
  },
  {
   "attachments": {},
   "cell_type": "markdown",
   "metadata": {},
   "source": [
    "# Unit 3… Algorithm/Programming Terms\n",
    "- Variables, Data Types, Assignment Operators:\n",
    "    - Variables: used to store and manipulate data in a program\n",
    "    - Data Types: classification of data based on the type of value it can hold; include integers, floating-point numbers, characters, and strings\n",
    "    - Assignment Operators: a symbol that is used to assign a value to a variable (=)\n",
    "- Managing Complexity with Variables: Lists, 2D Lists, Dictionaries, Class:\n",
    "    - Lists: an ordered collection of items with square brackets ([])\n",
    "    - 2D Lists: also called a matrix, a list of lists\n",
    "    - Dictionaries: collection of key-value pairs, uses curly braces ({})\n",
    "    - Class: a blueprint for creating objects, they have member variables and have behavior associated with them\n",
    "- Algorithms, Sequence, Selection, Iteration:\n",
    "    - Algorithms: a set of steps or instructions that are followed to solve a problem or perform a task\n",
    "    - Sequences: executes a series of steps in a specific order\n",
    "    - Selection: executes one or more steps based on a specific condition\n",
    "    - Iteration: executes one or more steps repeatedly until a certain condition is met\n",
    "- Expressions, Comparison Operators, Booleans Expressions and Selection, Booleans Expressions and Iteration, Truth Tables:\n",
    "    - Expressions: combination of values, variables, and operators that results in a single value\n",
    "    - Comparison Operators: compare values and determine if they are equal, greater than, or less than each other\n",
    "    - Boolean Expressions and Selection: a boolean variable (True/False) can be used as conditions in selection (if statements)\n",
    "    - Boolean Expressions and Iteration: iteration (while loops) can use a boolean variable as a condition(if statements)\n",
    "    - Truth Tables: A table for a logical operator containing each variable and all possible input and output results of that operator\n",
    "- Characters, Strings, Length, Concatenation, Upper, Lower, Traversing Strings:\n",
    "    - Characters: a single letter, number, symbol, or other element\n",
    "    - Strings: sequence of characters\n",
    "    - Length: number of characters it contains\n",
    "    - Concatenation: combining two or more strings into a single string\n",
    "    - Upper: convert a string to all uppercase\n",
    "    - Lower: convert a string to all lowercase\n",
    "    - Traversing Strings: to access each character in the string one by one, use a for loop to do this\n",
    "- Python If, Elif, Else conditionals; Nested Selection Statements:\n",
    "    - Python If: execute a block of code if a specific condition is true\n",
    "    - Elif: to specify additional conditions to check if the previous conditions are false\n",
    "    - Else conditionals: execute a block of code if all of the previous conditions are false\n",
    "    - Nested Selection Statements: control structures that contain other control structures within them\n",
    "- Python For, While loops with Range, with List:\n",
    "    - Python For: used to execute a block of code multiple times\n",
    "    - While loops with Range: execute a block of code repeatedly until a certain condition is met\n",
    "- Combining loops with conditionals to Break, Continue:\n",
    "    - Combining loops with conditionals to Break: break is used to exit a loop early\n",
    "    - Continue: used to skip the rest of the current iteration and move on to the next one\n",
    "- Procedural Abstraction, Python Def procedures, Parameters, Return Values:\n",
    "    - Procedural Abstraction: abstract away the details of how the task is performed, making your code easier to read and maintain, more efficient code\n",
    "    - Python Def procedures: how procedures are made with the def word\n",
    "    - Parameters: values that are passed to the procedure when it is called, defined within the parentheses of the procedure definition\n",
    "    - Return Values: value that is returned can be used by the calling code to perform additional tasks or to assign to a variable"
   ]
  }
 ],
 "metadata": {
  "kernelspec": {
   "display_name": "Python 3",
   "language": "python",
   "name": "python3"
  },
  "language_info": {
   "name": "python",
   "version": "3.8.10 (default, Jun 22 2022, 20:18:18) \n[GCC 9.4.0]"
  },
  "orig_nbformat": 4,
  "vscode": {
   "interpreter": {
    "hash": "916dbcbb3f70747c44a77c7bcd40155683ae19c65e1c03b4aa3499c5328201f1"
   }
  }
 },
 "nbformat": 4,
 "nbformat_minor": 2
}
