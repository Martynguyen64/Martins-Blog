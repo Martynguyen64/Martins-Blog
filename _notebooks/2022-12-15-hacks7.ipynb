{
 "cells": [
  {
   "cell_type": "markdown",
   "metadata": {},
   "source": [
    "# 3.16 Hacks\n",
    "- title : 3.16 Hacks\n",
    "- toc: true \n",
    "- badges: true\n",
    "- comments: true"
   ]
  },
  {
   "cell_type": "code",
   "execution_count": 1,
   "metadata": {},
   "outputs": [
    {
     "name": "stdout",
     "output_type": "stream",
     "text": [
      "Roll 1: 6\n",
      "Roll 2: 5\n",
      "Roll 3: 3\n",
      "Roll 4: 1\n",
      "Roll 5: 5\n",
      "Roll 6: 5\n",
      "Roll 7: 5\n",
      "Roll 8: 3\n",
      "Roll 9: 6\n",
      "Roll 10: 3\n"
     ]
    }
   ],
   "source": [
    "import random\n",
    "\n",
    "# Roll a six-sided dice and return the result\n",
    "def roll_dice():\n",
    "  return random.randint(1, 6)\n",
    "\n",
    "# Prompt the user for the number of dice rolls\n",
    "num_rolls = int(input(\"Enter the number of times you want to roll the dice: \"))\n",
    "\n",
    "# Simulate rolling the dice the specified number of times and print the results\n",
    "for i in range(num_rolls):\n",
    "  result = roll_dice()\n",
    "  print(f\"Roll {i + 1}: {result}\")"
   ]
  },
  {
   "cell_type": "code",
   "execution_count": 2,
   "metadata": {},
   "outputs": [
    {
     "name": "stdout",
     "output_type": "stream",
     "text": [
      "Hi,  Martin ! You are  98  years old in dog years.\n"
     ]
    }
   ],
   "source": [
    "name = input(\"What is your name? \")\n",
    "age = int(input(\"What is your age? \"))\n",
    "\n",
    "# Calculate the user's age in dog years\n",
    "dog_years = age * 7\n",
    "\n",
    "# Output the result\n",
    "print(\"Hi, \", name, \"! You are \", dog_years, \" years old in dog years.\")"
   ]
  }
 ],
 "metadata": {
  "kernelspec": {
   "display_name": "Python 3",
   "language": "python",
   "name": "python3"
  },
  "language_info": {
   "codemirror_mode": {
    "name": "ipython",
    "version": 3
   },
   "file_extension": ".py",
   "mimetype": "text/x-python",
   "name": "python",
   "nbconvert_exporter": "python",
   "pygments_lexer": "ipython3",
   "version": "3.8.10"
  },
  "orig_nbformat": 4,
  "vscode": {
   "interpreter": {
    "hash": "916dbcbb3f70747c44a77c7bcd40155683ae19c65e1c03b4aa3499c5328201f1"
   }
  }
 },
 "nbformat": 4,
 "nbformat_minor": 2
}
