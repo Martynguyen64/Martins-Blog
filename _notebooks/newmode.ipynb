{
 "cells": [
  {
   "cell_type": "markdown",
   "metadata": {},
   "source": [
    "# HTML Fragments\n",
    "- toc: true \n",
    "- badges: true\n",
    "- comments: true\n",
    "- categories: [jupyter]"
   ]
  },
  {
   "cell_type": "markdown",
   "metadata": {},
   "source": [
    "# Changing to Architecht Mode\n",
    "    1. Changed my website from dark mode to light mode\n",
    "\n",
    "    2.  The fonts and color are changed throughout the website\n",
    "\n",
    "    3. The option to access other tabs such as About Me, Notes, etc. is removed (initially was in the top right)\n",
    "\n",
    "    ![]({{ site.baseurl }}/images/architecht.png \"https://github.com/fastai/fastpages\")\n"
   ]
  },
  {
   "cell_type": "markdown",
   "metadata": {},
   "source": [
    "# Search Option on Blog"
   ]
  }
 ],
 "metadata": {
  "kernelspec": {
   "display_name": "Python 3.8.10 64-bit",
   "language": "python",
   "name": "python3"
  },
  "language_info": {
   "name": "python",
   "version": "3.8.10"
  },
  "orig_nbformat": 4,
  "vscode": {
   "interpreter": {
    "hash": "916dbcbb3f70747c44a77c7bcd40155683ae19c65e1c03b4aa3499c5328201f1"
   }
  }
 },
 "nbformat": 4,
 "nbformat_minor": 2
}
