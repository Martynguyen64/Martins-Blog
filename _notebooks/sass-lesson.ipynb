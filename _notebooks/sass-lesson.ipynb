{
 "cells": [
  {
   "attachments": {},
   "cell_type": "markdown",
   "metadata": {},
   "source": [
    "# SASS"
   ]
  },
  {
   "attachments": {},
   "cell_type": "markdown",
   "metadata": {},
   "source": [
    "# Why SASS?\n",
    "\n",
    "SASS is an improvement on CSS in that there are methods of abstraction. It is a stylesheet language that is compiled into CSS, which means that Sass will translate the Sass code you wrote into CSS, which is what your web browser can read.\n",
    "\n",
    "# SASS vs SCSS\n",
    "As you learn about Sass, you might notice something called Scss. They are basically the same thing except that Scss uses curly braces and semicolons to distinguish between lines. Sass uses indentation and newlines instead.\n",
    "\n",
    "We will be teaching the Scss syntax because it is more commonly used."
   ]
  },
  {
   "attachments": {},
   "cell_type": "markdown",
   "metadata": {},
   "source": [
    "# Getting started\n",
    "\n",
    "A easy way to write SASS and have it preprocessed into CSS is by using a Jekyll powered website, such as GitHub pages or Fastpages.\n",
    "\n",
    "The first step is to clone a GitHub pages repo, such as this [one](https://github.com/lwu1822/sassy_squad).\n",
    "\n",
    "Within the repository, head over to `assets/css/`, and open `style.scss`.\n",
    "\n",
    "This is where you can create your SASS code.\n",
    "\n",
    "To see your CSS-translated SASS code, head over to `_site/assets/css/style.css`\n",
    "\n",
    "Note: You will need to run bundle exec jekyll serve before the _site directory appears.\n",
    "\n",
    "The first few hundred lines are used to style Github's theme. Make sure to scroll to the very bottom to see the SASS code that you wrote, which is in the form of CSS."
   ]
  },
  {
   "attachments": {},
   "cell_type": "markdown",
   "metadata": {},
   "source": [
    "# Nesting\n",
    "\n",
    "Nesting in CSP (Content Security Policy) refers to the ability to specify a policy for a specific resource or set of resources that are loaded within another resource. For example, if you have an iframe on your website that loads content from another domain, you can use CSP to restrict the types of content that can be loaded within that iframe. This is done by specifying a policy for the parent resource (your website) that applies to any nested resources (the content loaded in the iframe).\n",
    "\n",
    "- In CSS, multiple selectors may be linked to the same element.\n",
    "- This can make the code more complex and harder to read.\n",
    "- SASS has a nesting feature that helps organize CSS code in a way that reflects the HTML hierarchy.\n",
    "- With SASS nesting, you can group the font-size and font-family properties under the .title and .text classes within the .font class.\n",
    "- This makes the code more readable and easier to understand, especially when dealing with complex CSS rules."
   ]
  },
  {
   "attachments": {},
   "cell_type": "markdown",
   "metadata": {},
   "source": [
    "To illustrate, the CSS code above can be rewritten in SASS as shown below:\n",
    "\n",
    ".font {\n",
    ".title {\n",
    "font-family: \"Times New Roman\", serif;\n",
    "font-size: 3em;\n",
    "}\n",
    ".text {\n",
    "font-family: \"Times New Roman\", serif;\n",
    "font-size: 1em;\n",
    "}\n",
    "}"
   ]
  },
  {
   "attachments": {},
   "cell_type": "markdown",
   "metadata": {},
   "source": [
    "\n",
    "The resulting HTML code for the SASS code above would be:\n",
    "\n",
    "<div class=\"font\">\n",
    "    <div class=\"title\">\n",
    "    \t<p>Title</p>\n",
    "    </div>\n",
    "    <div class=\"text\">\n",
    "    \t<p>This is some text</p>\n",
    "    </div>\n",
    "</div>\n"
   ]
  },
  {
   "attachments": {},
   "cell_type": "markdown",
   "metadata": {},
   "source": [
    "# Mini-hack\n",
    "\n",
    "Write out the SASS equivalent for the following CSS code:\n",
    "\n",
    "```\n",
    ".a .b {\n",
    "    color: green;\n",
    "}\n",
    "\n",
    ".a .c {\n",
    "    color: blue;\n",
    "}\n",
    "```"
   ]
  },
  {
   "attachments": {},
   "cell_type": "markdown",
   "metadata": {},
   "source": [
    "## SASS Equivalent\n",
    "\n",
    ".a {\n",
    "  .b {\n",
    "    color: green;\n",
    "  }\n",
    "\n",
    "  .c {\n",
    "    color: blue;\n",
    "  }\n",
    "}\n"
   ]
  },
  {
   "attachments": {},
   "cell_type": "markdown",
   "metadata": {},
   "source": [
    "# Extend/Inheritance\n",
    "\n",
    "What are some similarities that the buttons share? What are the differences?\n",
    "\n",
    "- They are the same height\n",
    "- Same format\n",
    "- They have the same action when you hover over them\n",
    "- They are different colors\n",
    "- They have different text\n",
    "- Different width based on length of text\n",
    "\n",
    "To reuse a portion of CSS code in multiple selectors:\n",
    "\n",
    "CSS: copy paste code each time\n",
    "SASS: @extend to inherit the code\n",
    "\n",
    "For example, %buttonLayout placeholder class, being a template for buttons ``` %buttonLayout {\n",
    "\n",
    "width: 15em;\n",
    "\n",
    "height: 15em;\n",
    "\n",
    "color: #ffffff;\n",
    "\n",
    "margin-right: 10%;\n",
    "\n",
    "}\n",
    "\n",
    "- Selector create for each button with @extend %class-name\n",
    ".gettingStartedButton, .nestingButton, .extendButton {\n",
    "\n",
    "@extend %buttonLayout;\n",
    "\n",
    "}\n",
    "\n",
    "- Different background color, each one unique\n",
    ".gettingStartedButton {\n",
    "\n",
    "background: radial-gradient( #1539db, #8a8ce6);\n",
    "\n",
    "}\n",
    "\n",
    ".nestingButton {\n",
    "\n",
    "background: radial-gradient( #3a9fa7, #8ae0e6);\n",
    "\n",
    "}\n",
    "\n",
    ".extendButton {\n",
    "\n",
    "background: radial-gradient( #643aa7, #d78ae6);\n",
    "\n",
    "} ```"
   ]
  },
  {
   "attachments": {},
   "cell_type": "markdown",
   "metadata": {},
   "source": [
    "# Mixin\n",
    "- Buttons' backgrounds can be coded using the \"background: radial-gradient()\" property.\n",
    "- To code backgrounds in a different way, you can use a mixin, which is like a code template that can be customized with parameters to create unique and dynamic styles.\n",
    "- A mixin is similar to the \"extend\" property, and it allows you to reuse code with the ability to take in parameters and style elements uniquely.\n",
    "- In SASS, you can create a mixin using the \"@mixin\" rule and passing in parameters, such as two colors, which can be used to set the inner and outer colors of the radial gradient. For example:"
   ]
  },
  {
   "attachments": {},
   "cell_type": "markdown",
   "metadata": {},
   "source": [
    "- Call mixing with @include after creating selector\n",
    ".gettingStartedButton {\n",
    "\n",
    "@include buttonLayout(#1539db, #8a8ce6);\n",
    "\n",
    "}\n",
    "\n",
    "- Styling rules that don't take in variables wiithin mixin\n",
    "@mixin buttonLayout($innerColor, $outerColor) {\n",
    "\n",
    "background: radial-gradient($innerColor, $outerColor);\n",
    "\n",
    "width: 15em;\n",
    "\n",
    "height: 15em;\n",
    "\n",
    "color: #ffffff;\n",
    "\n",
    "margin-right: 10%;\n",
    "\n",
    "border-radius: 2em;\n",
    "} ```"
   ]
  },
  {
   "attachments": {},
   "cell_type": "markdown",
   "metadata": {},
   "source": [
    "# Mini-hack\n",
    "\n",
    "Write out a mixin in SASS that takes in a color and a font size as the parameter. Within the mixin, set the background color and font color to the color parameter, and set the font size to the font size parameter. Then create a selector that calls the mixin, and pass in a color and font size of your choice as the arguments."
   ]
  },
  {
   "cell_type": "code",
   "execution_count": null,
   "metadata": {
    "vscode": {
     "languageId": "plaintext"
    }
   },
   "outputs": [],
   "source": [
    "@mixin button($color, $fontSize) {\n",
    "    background-color: $color;\n",
    "    font-size: $fontSize;\n",
    "}\n",
    "\n",
    ".theButton {\n",
    "    @include colored(#000000, 18px);\n",
    "}"
   ]
  },
  {
   "attachments": {},
   "cell_type": "markdown",
   "metadata": {},
   "source": [
    "# Function\n",
    "\n",
    "Take notes here"
   ]
  },
  {
   "attachments": {},
   "cell_type": "markdown",
   "metadata": {},
   "source": [
    "# Import\n",
    "\n",
    "Take notes here"
   ]
  },
  {
   "attachments": {},
   "cell_type": "markdown",
   "metadata": {},
   "source": [
    "# SASS Hacks\n",
    "\n",
    "1. Take notes and complete the mini-hacks. (0.9)\n",
    "\n",
    "2. Complete the [quiz questions](https://lwu1822.github.io/sassy_squad/quizQuestions) and provide your answers in this notebook. (0.9)\n",
    "\n",
    "3. Use SASS to create something that uses either extend or mixin. (0.9)\n",
    "\n",
    "4. Extra credit: Research other SASS features and blog about what you learned or add to your SASS project with any extra features not covered in this lesson. More points will be given if both are done."
   ]
  }
 ],
 "metadata": {
  "language_info": {
   "name": "python"
  },
  "orig_nbformat": 4
 },
 "nbformat": 4,
 "nbformat_minor": 2
}
