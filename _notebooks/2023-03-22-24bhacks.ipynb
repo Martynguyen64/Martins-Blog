{
 "cells": [
  {
   "attachments": {},
   "cell_type": "markdown",
   "metadata": {},
   "source": [
    "#  Unit 2.4b Hacks\n",
    "> My Hacks for Unit 2.4b\n",
    "- toc: true\n",
    "- categories: [unit 2.4b, cb, hacks]"
   ]
  },
  {
   "cell_type": "code",
   "execution_count": 1,
   "metadata": {},
   "outputs": [
    {
     "name": "stdout",
     "output_type": "stream",
     "text": [
      "(0, 'id', 'INTEGER', 1, None, 1)\n",
      "(1, '_make', 'VARCHAR(255)', 1, None, 0)\n",
      "(2, '_model', 'VARCHAR(255)', 1, None, 0)\n",
      "(3, '_price', 'INTEGER', 1, None, 0)\n",
      "(4, '_year', 'INTEGER', 1, None, 0)\n",
      "(5, '_desc', 'VARCHAR(255)', 1, None, 0)\n",
      "(6, '_engine', 'VARCHAR(255)', 1, None, 0)\n",
      "(7, '_body_style', 'VARCHAR(255)', 1, None, 0)\n",
      "(8, '_owner', 'VARCHAR(255)', 1, None, 0)\n"
     ]
    }
   ],
   "source": [
    "import sqlite3\n",
    "\n",
    "database = 'instance/cars.db' # this is location of database\n",
    "\n",
    "def schema():\n",
    "    \n",
    "    # Connect to the database file\n",
    "    conn = sqlite3.connect(database)\n",
    "\n",
    "    # Create a cursor object to execute SQL queries\n",
    "    cursor = conn.cursor()\n",
    "    \n",
    "    # Fetch results of Schema\n",
    "    results = cursor.execute(\"PRAGMA table_info('cars')\").fetchall()\n",
    "\n",
    "    # Print the results\n",
    "    for row in results:\n",
    "        print(row)\n",
    "\n",
    "    # Close the database connection\n",
    "    conn.close()\n",
    "    \n",
    "schema()"
   ]
  },
  {
   "cell_type": "code",
   "execution_count": 2,
   "metadata": {},
   "outputs": [
    {
     "name": "stdout",
     "output_type": "stream",
     "text": [
      "A new car has been added\n"
     ]
    }
   ],
   "source": [
    "import sqlite3\n",
    "\n",
    "database = 'instance/cars.db'\n",
    "\n",
    "def create():\n",
    "    make = input(\"Enter the make of the car:\")\n",
    "    model = input(\"Enter the model:\")\n",
    "    price = input(\"Enter the price:\")\n",
    "    year = input(\"Enter the year:\")\n",
    "    desc = input(\"Enter a description of the car:\")\n",
    "    body_style = input(\"Enter the body style of the car:\")\n",
    "    engine = input(\"Enter the engine type:\")\n",
    "    owner = input(\"Who's the owner of the car?\")\n",
    "        \n",
    "    # Connect to the database file\n",
    "    conn = sqlite3.connect(database)\n",
    "\n",
    "    # Create a cursor object to execute SQL commands\n",
    "    cursor = conn.cursor()\n",
    "\n",
    "    try:\n",
    "        # Execute an SQL command to insert data into a table\n",
    "        cursor.execute(\"INSERT INTO cars (_make, _model, _price, _year, _desc, _body_style, _engine, _owner) VALUES (?, ?, ?, ?, ?, ?, ?, ?)\", (make, model, price, year, desc, body_style, engine, owner))\n",
    "        \n",
    "        # Commit the changes to the database\n",
    "        conn.commit()\n",
    "        print(f\"A new car has been added\")\n",
    "                \n",
    "    except sqlite3.Error as error:\n",
    "        print(\"Error while executing the INSERT:\", error)\n",
    "\n",
    "\n",
    "    # Close the cursor and connection objects\n",
    "    cursor.close()\n",
    "    conn.close()\n",
    "    \n",
    "create()"
   ]
  },
  {
   "cell_type": "code",
   "execution_count": 3,
   "metadata": {},
   "outputs": [
    {
     "name": "stdout",
     "output_type": "stream",
     "text": [
      "(1, 'BMW', '2 Series', 34000, 2021, 'The BMW 2 series is a stylish sports coupe that drives just as well as it looks.', '2.0L four-cylinder', 'coupe', 'John Doe')\n",
      "(3, 'Toyota', 'Sienna', 50000, 2023, 'New Description! Sienna!', 'V6', 'Van', 'SiennaDoe')\n",
      "(7, 'Hyundai', 'Veloster N', 48000, 2019, 'New Description!', 'V6', 'Coupe', 'Jan')\n",
      "(8, 'Lucid', 'Air', 72000, 2023, 'The all new, all electric, Lucid Air!', 'Electric', 'Sedan', 'Lucid')\n",
      "(9, 'Kia', 'Stinger', 42000, 2021, 'Kia Stinger, sports sedan!', 'V6', 'Sedna', 'Sting')\n",
      "(10, '', '', '', '', '', '', '', '')\n",
      "(11, 'Ford', 'Mustang', 50000, 2019, 'American Muscle!', 'V8', 'Coupe', 'Mr. Muscle')\n"
     ]
    }
   ],
   "source": [
    "import sqlite3\n",
    "\n",
    "def read():\n",
    "    # Connect to the database file\n",
    "    conn = sqlite3.connect(database)\n",
    "\n",
    "    # Create a cursor object to execute SQL queries\n",
    "    cursor = conn.cursor()   # open connection object: contains methods and attributes you need to alter data \n",
    "    \n",
    "    # Execute a SELECT statement to retrieve data from a table\n",
    "    results = cursor.execute('SELECT * FROM cars').fetchall()  #results is an object \n",
    "\n",
    "    # Print the results\n",
    "    if len(results) == 0:\n",
    "        print(\"Table is empty\")\n",
    "    else:\n",
    "        for row in results:\n",
    "            print(row)\n",
    "\n",
    "    # Close the cursor and connection objects\n",
    "    cursor.close()\n",
    "    conn.close()\n",
    "    \n",
    "read()"
   ]
  },
  {
   "cell_type": "code",
   "execution_count": 4,
   "metadata": {},
   "outputs": [
    {
     "name": "stdout",
     "output_type": "stream",
     "text": [
      "Car with the id 10 has been updated\n"
     ]
    }
   ],
   "source": [
    "import sqlite3\n",
    "\n",
    "database = 'instance/cars.db'\n",
    "\n",
    "# Take the inputs for each attribute\n",
    "def update():\n",
    "    id = input(\"Enter the id of the car:\")\n",
    "    make = input(\"Enter the make of the car:\")\n",
    "    model = input(\"Enter the model:\")\n",
    "    price = input(\"Enter the price:\")\n",
    "    year = input(\"Enter the year:\")\n",
    "    desc = input(\"Enter a description of the car:\")\n",
    "    body_style = input(\"Enter the body style of the car:\")\n",
    "    engine = input(\"Enter the engine type:\")\n",
    "    owner = input(\"Who's the owner of the car?\")\n",
    "\n",
    "    # Connect to the database file\n",
    "    conn = sqlite3.connect(database)\n",
    "\n",
    "    # Create a cursor object to execute SQL commands\n",
    "    cursor = conn.cursor()\n",
    "\n",
    "    try:\n",
    "        # Execute an SQL command to update data in a table\n",
    "        # Trying to add dob right now...\n",
    "        cursor.execute(\"UPDATE cars SET _make = ?, _model = ?, _price = ?, _year = ?, _desc = ?,  _body_style = ?,  _engine = ?,  _owner = ?  WHERE id = ?\", (make, model, price, year, desc, body_style, engine, owner, id))\n",
    "        if cursor.rowcount == 0:\n",
    "            # Car ID not found\n",
    "            print(f\"No id was found in the table\")\n",
    "        \n",
    "        # Commit new data\n",
    "        else: \n",
    "            print(f\"Car with the id {id} has been updated\")\n",
    "            conn.commit()\n",
    "\n",
    "    except sqlite3.Error as error:\n",
    "        print(\"Error while updating the record:\", error)\n",
    "    \n",
    "    # Close the cursor and connection objects\n",
    "    cursor.close()\n",
    "    conn.close()\n",
    "    \n",
    "update()\n"
   ]
  },
  {
   "cell_type": "code",
   "execution_count": 5,
   "metadata": {},
   "outputs": [
    {
     "name": "stdout",
     "output_type": "stream",
     "text": [
      "Row with ID 8 has been deleted.\n"
     ]
    }
   ],
   "source": [
    "import sqlite3\n",
    "\n",
    "def delete():\n",
    "\n",
    "    id = input(\"Select the ID of the car you wish to remove: \")\n",
    "    \n",
    "    # Connect to the database file\n",
    "    conn = sqlite3.connect(database)\n",
    "\n",
    "    # Create a cursor object to execute SQL commands\n",
    "    cursor = conn.cursor()\n",
    "\n",
    "    # Validate the input\n",
    "    try:\n",
    "        id = int(id)\n",
    "    except ValueError:\n",
    "        print(\"Invalid input: ID must be an integer.\")\n",
    "        return\n",
    "\n",
    "    try:\n",
    "        # Use a parameterized query to prevent SQL injection\n",
    "        c = conn.cursor()\n",
    "        c.execute(\"DELETE FROM cars WHERE id = ?\", (id,))\n",
    "        conn.commit()\n",
    "        print(f\"Row with ID {id} has been deleted.\")\n",
    "    except sqlite3.Error as e:\n",
    "        print(f\"Error deleting row with ID {id}: {e}\")\n",
    "    finally:\n",
    "        # Close the connection\n",
    "        cursor.close\n",
    "        conn.close()\n",
    "\n",
    "delete()"
   ]
  },
  {
   "attachments": {},
   "cell_type": "markdown",
   "metadata": {},
   "source": [
    "## CRUD Menu\n",
    "\n",
    "### Menu Interface to CRUD operations\n",
    "\n",
    "> CRUD and Schema interactions from one location by running menu. Observe input at the top of VSCode, observe output underneath code cell.\n",
    "\n",
    "1. Why does the menu repeat?\n",
    "\n",
    " the user wishes to conduct multiple tasks in a single session (such as creating and deleting), they can do so by accessing the same menu repeatedly. Any of the CRUD operations can be repeated until the user decides to exit the program via the escape button.\n"
   ]
  },
  {
   "cell_type": "code",
   "execution_count": null,
   "metadata": {},
   "outputs": [
    {
     "name": "stdout",
     "output_type": "stream",
     "text": [
      "Please enter c, r, u, or d\n",
      "(1, 'BMW', '2 Series', 34000, 2021, 'The BMW 2 Series NEW DESCRIPTION!', '4 cylinder', 'Coupe', 'DoeJohn')\n",
      "(7, 'Hyundai', 'Veloster N', 48000, 2019, 'New Description!', 'V6', 'Coupe', 'Jan')\n",
      "(9, 'Kia', 'Stinger', 42000, 2021, 'Kia Stinger, sports sedan!', 'V6', 'Sedna', 'Sting')\n",
      "(10, 'Dodge', 'Charger', 45000, 2021, 'Vroom!', 'V8', 'Sedan', \"Scatpack's are cool\")\n",
      "(11, 'Ford', 'Mustang', 50000, 2019, 'American Muscle!', 'V8', 'Coupe', 'Mr. Muscle')\n"
     ]
    }
   ],
   "source": [
    "def menu():\n",
    "    operation = input(\"Enter: (C)reate (R)ead (U)pdate or (D)elete or (S)chema\")\n",
    "    if operation.lower() == 'c':\n",
    "        create()\n",
    "    elif operation.lower() == 'r':\n",
    "        read()\n",
    "    elif operation.lower() == 'u':\n",
    "        update()\n",
    "    elif operation.lower() == 'd':\n",
    "        delete()\n",
    "    elif operation.lower() == 's':\n",
    "        schema()\n",
    "    elif len(operation)==0: # Escape Key\n",
    "        return\n",
    "    else:\n",
    "        print(\"Please enter c, r, u, or d\") \n",
    "    menu() # recursion, repeat menu\n",
    "        \n",
    "try:\n",
    "    menu() # start menu\n",
    "except:\n",
    "    print(\"Perform Jupyter 'Run All' prior to starting menu\")"
   ]
  },
  {
   "attachments": {},
   "cell_type": "markdown",
   "metadata": {},
   "source": [
    "2. Could you refactor this menu? Make it work with a List?\n",
    "\n",
    "Yes, you can add the options for each operation into a list."
   ]
  },
  {
   "cell_type": "code",
   "execution_count": 8,
   "metadata": {},
   "outputs": [
    {
     "name": "stdout",
     "output_type": "stream",
     "text": [
      "(1, 'BMW', '2 Series', 34000, 2021, 'The BMW 2 series is a stylish sports coupe that drives just as well as it looks.', '2.0L four-cylinder', 'coupe', 'John Doe')\n",
      "(7, 'Hyundai', 'Veloster N', 48000, 2019, 'New Description!', 'V6', 'Coupe', 'Jan')\n",
      "(9, 'Kia', 'Stinger', 42000, 2021, 'Kia Stinger, sports sedan!', 'V6', 'Sedna', 'Sting')\n",
      "(10, 'Dodge', 'Charger', 45000, 2021, 'Vroom!', 'V8', 'Sedan', \"Scatpack's are cool\")\n",
      "(11, 'Ford', 'Mustang', 50000, 2019, 'American Muscle!', 'V8', 'Coupe', 'Mr. Muscle')\n",
      "Car with the id 1 has been updated\n",
      "(1, 'BMW', '2 Series', 34000, 2021, 'The BMW 2 Series NEW DESCRIPTION!', '4 cylinder', 'Coupe', 'DoeJohn')\n",
      "(7, 'Hyundai', 'Veloster N', 48000, 2019, 'New Description!', 'V6', 'Coupe', 'Jan')\n",
      "(9, 'Kia', 'Stinger', 42000, 2021, 'Kia Stinger, sports sedan!', 'V6', 'Sedna', 'Sting')\n",
      "(10, 'Dodge', 'Charger', 45000, 2021, 'Vroom!', 'V8', 'Sedan', \"Scatpack's are cool\")\n",
      "(11, 'Ford', 'Mustang', 50000, 2019, 'American Muscle!', 'V8', 'Coupe', 'Mr. Muscle')\n",
      "Row with ID 3 has been deleted.\n",
      "(1, 'BMW', '2 Series', 34000, 2021, 'The BMW 2 Series NEW DESCRIPTION!', '4 cylinder', 'Coupe', 'DoeJohn')\n",
      "(7, 'Hyundai', 'Veloster N', 48000, 2019, 'New Description!', 'V6', 'Coupe', 'Jan')\n",
      "(9, 'Kia', 'Stinger', 42000, 2021, 'Kia Stinger, sports sedan!', 'V6', 'Sedna', 'Sting')\n",
      "(10, 'Dodge', 'Charger', 45000, 2021, 'Vroom!', 'V8', 'Sedan', \"Scatpack's are cool\")\n",
      "(11, 'Ford', 'Mustang', 50000, 2019, 'American Muscle!', 'V8', 'Coupe', 'Mr. Muscle')\n"
     ]
    }
   ],
   "source": [
    "def menu():\n",
    "    options = ['c', 'r', 'u', 'd', 's']\n",
    "    operation = input(\"Enter: (C)reate (R)ead (U)pdate or (D)elete or (S)chema\")\n",
    "    if operation.lower() in options:\n",
    "        if operation.lower() == 'c':\n",
    "            create()\n",
    "        elif operation.lower() == 'r':\n",
    "            read()\n",
    "        elif operation.lower() == 'u':\n",
    "            update()\n",
    "        elif operation.lower() == 'd':\n",
    "            delete()\n",
    "        elif operation.lower() == 's':\n",
    "            schema()\n",
    "    elif len(operation) == 0: # Escape Key\n",
    "        return\n",
    "    else:\n",
    "        print(\"Please enter c, r, u, or d\") \n",
    "    menu() # recursion, repeat menu\n",
    "        \n",
    "try:\n",
    "    menu() # start menu\n",
    "except:\n",
    "    print(\"Perform Jupyter 'Run All' prior to starting menu\")"
   ]
  }
 ],
 "metadata": {
  "kernelspec": {
   "display_name": "base",
   "language": "python",
   "name": "python3"
  },
  "language_info": {
   "codemirror_mode": {
    "name": "ipython",
    "version": 3
   },
   "file_extension": ".py",
   "mimetype": "text/x-python",
   "name": "python",
   "nbconvert_exporter": "python",
   "pygments_lexer": "ipython3",
   "version": "3.9.12"
  },
  "orig_nbformat": 4
 },
 "nbformat": 4,
 "nbformat_minor": 2
}
