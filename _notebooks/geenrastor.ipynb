{
 "cells": [
  {
   "cell_type": "markdown",
   "metadata": {},
   "source": [
    "# Random Java NBA Team Generator\n",
    "- toc: true \n",
    "- badges: true\n",
    "- comments: true\n",
    "- categories: [Javascript]"
   ]
  },
  {
   "cell_type": "markdown",
   "metadata": {},
   "source": [
    "## Click the button below and it will generate a random nba team\n"
   ]
  },
  {
   "cell_type": "code",
   "execution_count": null,
   "metadata": {},
   "outputs": [],
   "source": [
    "<button name=\"button\" onclick=\"getrandom()\">Click for Random NBA team</button>\n",
    "function get_random (list) {\n",
    "    return list[Math.floor((Math.random()*list.length))];\n",
    "  }\n",
    "  \n",
    "  \n",
    "  get_random([\"Lakers\", \"Clippers\", \"Warriors\", \"Kings\", \"Knicks\", \"Nets\", \"Bucks\", \"Cavs\", \"Bulls\", \"Hawks\", \"Celtics\", \"Pistons\", \"Suns\", \"Heat\", \"Jazz\" ])"
   ]
  }
 ],
 "metadata": {
  "kernelspec": {
   "display_name": "JavaScript (Node.js)",
   "language": "javascript",
   "name": "javascript"
  },
  "language_info": {
   "file_extension": ".js",
   "mimetype": "application/javascript",
   "name": "javascript",
   "version": "6.11.2"
  },
  "orig_nbformat": 4
 },
 "nbformat": 4,
 "nbformat_minor": 2
}
