{
 "cells": [
  {
   "cell_type": "markdown",
   "metadata": {},
   "source": [
    "# Lists and Dictionaires\n",
    "- toc: true \n",
    "- badges: true\n",
    "- comments: true\n",
    "- categories: [jupyter]"
   ]
  },
  {
   "cell_type": "markdown",
   "metadata": {},
   "source": [
    "Adding Records to InfoDb"
   ]
  },
  {
   "cell_type": "code",
   "execution_count": 31,
   "metadata": {},
   "outputs": [
    {
     "name": "stdout",
     "output_type": "stream",
     "text": [
      "[{'FirstName': 'John', 'LastName': 'Mortensen', 'DOB': 'October 21', 'Residence': 'San Diego', 'Email': 'jmortensen@powayusd.com', 'Owns_Cars': ['2015-Fusion', '2011-Ranger', '2003-Excursion', '1997-F350', '1969-Cadillac']}, {'FirstName': 'Sunny', 'LastName': 'Naidu', 'DOB': 'August 2', 'Residence': 'Temecula', 'Email': 'snaidu@powayusd.com', 'Owns_Cars': ['4Runner']}, {'FirstName': 'Martin', 'LastName': 'Nguyen', 'DOB': 'October 15', 'Residence': '4S Ranch, San Diego', 'Email': 'martinsupercell06@gmail.com', 'Owns_Cars': ['None']}, {'FirstName': 'Jeffery', 'LastName': 'Guo', 'DOB': 'July 30', 'Residence': 'Carmel Valley, San Diego', 'Email': 'jguo45672@gmail.com', 'Owns_Cars': ['BMW']}]\n"
     ]
    }
   ],
   "source": [
    "InfoDb = []\n",
    "\n",
    "# Append to List a Dictionary of key/values related to a person and cars\n",
    "InfoDb.append({\n",
    "    \"FirstName\": \"John\",\n",
    "    \"LastName\": \"Mortensen\",\n",
    "    \"DOB\": \"October 21\",\n",
    "    \"Residence\": \"San Diego\",\n",
    "    \"Email\": \"jmortensen@powayusd.com\",\n",
    "    \"Owns_Cars\": [\"2015-Fusion\", \"2011-Ranger\", \"2003-Excursion\", \"1997-F350\", \"1969-Cadillac\"]\n",
    "})\n",
    "\n",
    "# Append to List a 2nd Dictionary of key/values\n",
    "InfoDb.append({\n",
    "    \"FirstName\": \"Sunny\",\n",
    "    \"LastName\": \"Naidu\",\n",
    "    \"DOB\": \"August 2\",\n",
    "    \"Residence\": \"Temecula\",\n",
    "    \"Email\": \"snaidu@powayusd.com\",\n",
    "    \"Owns_Cars\": [\"4Runner\"]\n",
    "})\n",
    "\n",
    "InfoDb.append({\n",
    "    \"FirstName\": \"Martin\",\n",
    "    \"LastName\": \"Nguyen\",\n",
    "    \"DOB\": \"October 15\",\n",
    "    \"Residence\": \"4S Ranch, San Diego\",\n",
    "    \"Email\": \"martinsupercell06@gmail.com\",\n",
    "    \"Owns_Cars\": [\"None\"]})\n",
    "\n",
    "InfoDb.append({\n",
    "    \"FirstName\": \"Jeffery\",\n",
    "    \"LastName\": \"Guo\",\n",
    "    \"DOB\": \"July 30\",\n",
    "    \"Residence\": \"Carmel Valley, San Diego\",\n",
    "    \"Email\": \"jguo45672@gmail.com\",\n",
    "    \"Owns_Cars\": [\"BMW\"]})\n",
    "# Print the data structure\n",
    "print(InfoDb)"
   ]
  },
  {
   "cell_type": "code",
   "execution_count": 32,
   "metadata": {},
   "outputs": [
    {
     "name": "stdout",
     "output_type": "stream",
     "text": [
      "Reversed List: ['Minh', 'Chuck', 'Martin', 'Brinley', 'Ben', 'Barron']\n"
     ]
    }
   ],
   "source": [
    "# create a list of family members\n",
    "Martys_family = [\"Barron\", \"Ben\", \"Brinley\", \"Martin\", \"Chuck\", \"Minh\"]\n",
    "\n",
    "# reverse the order of list elements\n",
    "Martys_family.reverse()\n",
    "\n",
    "\n",
    "print('Reversed List:', Martys_family)\n",
    "\n"
   ]
  },
  {
   "cell_type": "code",
   "execution_count": 33,
   "metadata": {},
   "outputs": [
    {
     "name": "stdout",
     "output_type": "stream",
     "text": [
      "For loop output\n",
      "\n",
      "John Mortensen\n",
      "\t Residence: San Diego\n",
      "\t Birth Day: October 21\n",
      "\t Cars: 2015-Fusion,2011-Ranger,2003-Excursion,1997-F350,1969-Cadillac\n",
      "\n",
      "Sunny Naidu\n",
      "\t Residence: Temecula\n",
      "\t Birth Day: August 2\n",
      "\t Cars: 4Runner\n",
      "\n",
      "Martin Nguyen\n",
      "\t Residence: 4S Ranch, San Diego\n",
      "\t Birth Day: October 15\n",
      "\t Cars: None\n",
      "\n",
      "Jeffery Guo\n",
      "\t Residence: Carmel Valley, San Diego\n",
      "\t Birth Day: July 30\n",
      "\t Cars: BMW\n",
      "\n"
     ]
    }
   ],
   "source": [
    "# print function: given a dictionary of InfoDb content\n",
    "def print_data(info):\n",
    "    print(info[\"FirstName\"], info[\"LastName\"])  # using comma puts space between values\n",
    "    print(\"\\t\", \"Residence:\", info[\"Residence\"]) # \\t is a tab indent\n",
    "    print(\"\\t\", \"Birth Day:\", info[\"DOB\"])\n",
    "    print(\"\\t\", \"Cars: \", end=\"\")  # end=\"\" make sure no return occurs\n",
    "    print(\",\".join(info[\"Owns_Cars\"]))  # join allows printing a string list with separator\n",
    "    print()\n",
    "\n",
    "\n",
    "# for loop algorithm iterates on length of InfoDb\n",
    "def for_loop():\n",
    "    print(\"For loop output\\n\")\n",
    "    for info in InfoDb:\n",
    "        print_data(info)\n",
    "\n",
    "for_loop()"
   ]
  },
  {
   "cell_type": "code",
   "execution_count": 34,
   "metadata": {},
   "outputs": [
    {
     "name": "stdout",
     "output_type": "stream",
     "text": [
      "While loop output\n",
      "\n",
      "This loop continues to print until the length of the InfoDb is met\n",
      "\n",
      "John Mortensen\n",
      "\t Residence: San Diego\n",
      "\t Birth Day: October 21\n",
      "\t Cars: 2015-Fusion,2011-Ranger,2003-Excursion,1997-F350,1969-Cadillac\n",
      "\n",
      "Sunny Naidu\n",
      "\t Residence: Temecula\n",
      "\t Birth Day: August 2\n",
      "\t Cars: 4Runner\n",
      "\n",
      "Martin Nguyen\n",
      "\t Residence: 4S Ranch, San Diego\n",
      "\t Birth Day: October 15\n",
      "\t Cars: None\n",
      "\n",
      "Jeffery Guo\n",
      "\t Residence: Carmel Valley, San Diego\n",
      "\t Birth Day: July 30\n",
      "\t Cars: BMW\n",
      "\n"
     ]
    }
   ],
   "source": [
    "def while_loop():\n",
    "    print(\"While loop output\\n\")\n",
    "    print(\"This loop continues to print until the length of the InfoDb is met\\n\")\n",
    "    i = 0\n",
    "    while i < len(InfoDb):\n",
    "        info = InfoDb[i]\n",
    "        print_data(info)\n",
    "        i += 1\n",
    "    return\n",
    "\n",
    "while_loop()"
   ]
  },
  {
   "cell_type": "code",
   "execution_count": 35,
   "metadata": {},
   "outputs": [
    {
     "name": "stdout",
     "output_type": "stream",
     "text": [
      "Recursive loop output\n",
      "\n",
      "This is an alternate version of the while loop that calls itself until the conditions of the loop are met.\n",
      "\n",
      "John Mortensen\n",
      "\t Residence: San Diego\n",
      "\t Birth Day: October 21\n",
      "\t Cars: 2015-Fusion,2011-Ranger,2003-Excursion,1997-F350,1969-Cadillac\n",
      "\n",
      "Sunny Naidu\n",
      "\t Residence: Temecula\n",
      "\t Birth Day: August 2\n",
      "\t Cars: 4Runner\n",
      "\n",
      "Martin Nguyen\n",
      "\t Residence: 4S Ranch, San Diego\n",
      "\t Birth Day: October 15\n",
      "\t Cars: None\n",
      "\n",
      "Jeffery Guo\n",
      "\t Residence: Carmel Valley, San Diego\n",
      "\t Birth Day: July 30\n",
      "\t Cars: BMW\n",
      "\n"
     ]
    }
   ],
   "source": [
    "def MartysRecursive(i):\n",
    "    if i < len(InfoDb):\n",
    "        info = InfoDb[i]\n",
    "        print_data(info)\n",
    "        MartysRecursive(i + 1)\n",
    "    return\n",
    "    \n",
    "print(\"Recursive loop output\\n\")\n",
    "print(\"This is an alternate version of the while loop that calls itself until the conditions of the loop are met.\\n\")\n",
    "MartysRecursive(0)"
   ]
  },
  {
   "cell_type": "code",
   "execution_count": 36,
   "metadata": {},
   "outputs": [
    {
     "name": "stdout",
     "output_type": "stream",
     "text": [
      "This is a 5 question NBA Quiz :)\n",
      "Question: How many championships have the Lakers won?\n",
      "Answer: 17\n",
      "Correct Answer\n",
      "Question: How many championships have the Celtics won?\n",
      "Answer: 17\n",
      "Correct Answer\n",
      "Question: Whos the best shooter in the NBA?\n",
      "Answer: Stephen Curry\n",
      "Correct Answer\n",
      "Question: What is the most points score in a game?\n",
      "Answer: 100\n",
      "Correct Answer\n",
      "Question: Who is the leading scorer in all time points?\n",
      "Answer: Kareem Abdul Jabbar\n",
      "Correct Answer\n",
      "You scored 5 correct answers out of 5, you really are a true NBA fan!\n",
      "A record of your quiz: {'Q_1': '17', 'Q_2': '17', 'Q_3': 'Stephen Curry', 'Q_4': '100', 'Q_5': 'Kareem Abdul Jabbar'}\n"
     ]
    }
   ],
   "source": [
    "questions = 5 #number of quiz questions\n",
    "correct = 0 #initialize number of correct answers as 0 \n",
    "\n",
    "print(\"This is a 5 question NBA Quiz :)\")\n",
    "\n",
    "\n",
    "def question_and_answer(prompt, answer):\n",
    "    print(\"Question: \" + prompt) #asks user a question\n",
    "    message = input() #takes user's input as variable msg \n",
    "    print(\"Answer: \" + message) #print user's input as Answer\n",
    "    \n",
    "    if answer == message:\n",
    "        print(\"Correct Answer\")\n",
    "        global correct #allows to modify variable outside of current scope \n",
    "        correct += 1 #add 1 to correct count\n",
    "    else:\n",
    "        print (\"Incorrect Answer\")\n",
    "    return message \n",
    "\n",
    "question_1 = question_and_answer(\"How many championships have the Lakers won?\", \"17\")\n",
    "question_2 = question_and_answer(\"How many championships have the Celtics won?\", \"17\")\n",
    "question_3 = question_and_answer(\"Whos the best shooter in the NBA?\", \"Stephen Curry\")\n",
    "question_4 = question_and_answer(\"What is the most points score in a game?\", \"100\")\n",
    "question_5 = question_and_answer(\"Who is the leading scorer in all time points?\", \"Kareem Abdul Jabbar\")\n",
    "\n",
    "if correct < 3:\n",
    "    print(f'You scored {correct} correct answers out of 5, you know nothing!')\n",
    "elif correct < 5:\n",
    "    print(f'You scored {correct} correct answers out of 5, your somwhat of a fan!')\n",
    "else: \n",
    "    print(f'You scored {correct} correct answers out of 5, you really are a true NBA fan!')\n",
    "\n",
    "Quiz = {\n",
    "    \"Q_1\": question_1,\n",
    "    \"Q_2\": question_2,\n",
    "    \"Q_3\": question_3,\n",
    "    \"Q_4\": question_4,\n",
    "    \"Q_5\": question_5\n",
    "}\n",
    "\n",
    "print(\"A record of your quiz:\", Quiz)"
   ]
  }
 ],
 "metadata": {
  "kernelspec": {
   "display_name": "Python 3.8.10 64-bit",
   "language": "python",
   "name": "python3"
  },
  "language_info": {
   "codemirror_mode": {
    "name": "ipython",
    "version": 3
   },
   "file_extension": ".py",
   "mimetype": "text/x-python",
   "name": "python",
   "nbconvert_exporter": "python",
   "pygments_lexer": "ipython3",
   "version": "3.8.10"
  },
  "orig_nbformat": 4,
  "vscode": {
   "interpreter": {
    "hash": "916dbcbb3f70747c44a77c7bcd40155683ae19c65e1c03b4aa3499c5328201f1"
   }
  }
 },
 "nbformat": 4,
 "nbformat_minor": 2
}
