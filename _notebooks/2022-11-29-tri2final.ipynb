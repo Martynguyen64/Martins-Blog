{
 "cells": [
  {
   "cell_type": "code",
   "execution_count": 11,
   "metadata": {},
   "outputs": [
    {
     "name": "stdout",
     "output_type": "stream",
     "text": [
      "Question: What team does Lebron James play for?\n",
      "Answer: Lakers\n",
      "Correct Answer\n",
      "Question: What team does Kevin Durant play for?\n",
      "Answer: Nets\n",
      "Correct Answer\n",
      "Question: What team does Stephen Curry play for?\n",
      "Answer: Warriors\n",
      "Correct Answer\n",
      "Question: Who won the 2022 NBA Championship?\n",
      "Answer: Warriors\n",
      "Correct Answer\n",
      "Question: Who is the G.O.A.T?\n",
      "Answer: Michael Jordan\n",
      "Correct Answer\n",
      "5 Answers correct\n"
     ]
    }
   ],
   "source": [
    "import getpass, sys\n",
    "\n",
    "questions = 5\n",
    "correct = 0\n",
    "\n",
    "def question_and_answer(prompt, answer):\n",
    "    print(\"Question: \" + prompt)\n",
    "    msg = input()\n",
    "    print(\"Answer: \" + msg)\n",
    "\n",
    "    if answer == msg:\n",
    "        print(\"Correct Answer\")\n",
    "        global correct\n",
    "        correct+=1\n",
    "    else:\n",
    "        print (\"Incorrect Answer\")\n",
    " \n",
    "question_and_answer(\"What team does Lebron James play for?\", \"Lakers\")\n",
    "question_and_answer(\"What team does Kevin Durant play for?\", \"Nets\")\n",
    "question_and_answer(\"What team does Stephen Curry play for?\", \"Warriors\")\n",
    "question_and_answer(\"Who won the 2022 NBA Championship?\", \"Warriors\")\n",
    "question_and_answer(\"Who is the G.O.A.T?\", \"Michael Jordan\")\n",
    "\n",
    "\n",
    "print(correct, \"Answers correct\")"
   ]
  },
  {
   "cell_type": "code",
   "execution_count": null,
   "metadata": {},
   "outputs": [],
   "source": [
    "Num1 = 50\n",
    "Num2 = Num1 % 9 + 15                    # num2 = 20\n",
    "Num3 = Num2 / Num1 + ( Num2 * 2 )       # num3 = 20/50 + 40 = 40.4\n",
    "Num4 = Num3 + Num1 / 5 - 10             # num4 = 40.4 + 10 - 10\n",
    "Result = Num4 - Num2                    # Result = 40.4 - 20 = 20.4"
   ]
  },
  {
   "cell_type": "code",
   "execution_count": null,
   "metadata": {},
   "outputs": [],
   "source": [
    "Num1 = 10\n",
    "Num2 = Num1 % 3 * 4                     # num2 = 1 * 4 = 4\n",
    "Num1 = Num2                             # num1 = 4\n",
    "Num3 = Num1 * 3                         # num3 = 4 * 3 = 12\n",
    "Result = Num3 % 2                       # Result = 0"
   ]
  },
  {
   "cell_type": "code",
   "execution_count": null,
   "metadata": {},
   "outputs": [],
   "source": [
    "valueA = 4\n",
    "valueB = 90\n",
    "valueC = 17\n",
    "valueB = valueC - valueA                # valueB = 17 - 4 = 13\n",
    "valueA = valueA * 10                    # valueA = 4 * 10 = 40\n",
    "if valueB > 10:                         # valueB is 13, which is greater than 10\n",
    "    print(valueC)                       # This will print 17"
   ]
  },
  {
   "cell_type": "code",
   "execution_count": 10,
   "metadata": {},
   "outputs": [
    {
     "name": "stdout",
     "output_type": "stream",
     "text": [
      "straightbrownshort\n"
     ]
    }
   ],
   "source": [
    "type = \"curly\"\n",
    "color = \"brown\"\n",
    "length = \"short\"\n",
    "type = \"straight\"\n",
    "hair = type + color + length            # hair = \"straightbrownshort\" (concatenation)\n",
    "print(hair)                             # This will print straightbrownshort"
   ]
  },
  {
   "cell_type": "code",
   "execution_count": 7,
   "metadata": {},
   "outputs": [
    {
     "name": "stdout",
     "output_type": "stream",
     "text": [
      "Mr.Mort is Very handsome.\n"
     ]
    }
   ],
   "source": [
    "Noun = \"Mr.Mortenson\" \n",
    "Adjective = \"handsome\" \n",
    "Adjective2 = \"Very\" \n",
    "Verb = \"is\" \n",
    "abrev = Noun[0:7]\n",
    "yoda = abrev + \" \" + Verb + \" \" + Adjective2 + \" \" + Adjective + \".\"\n",
    "print(yoda)"
   ]
  },
  {
   "cell_type": "code",
   "execution_count": 5,
   "metadata": {},
   "outputs": [
    {
     "name": "stdout",
     "output_type": "stream",
     "text": [
      "cookie has 4.0 and the second cookie has 225\n"
     ]
    }
   ],
   "source": [
    "cookie = \"choclate\" \n",
    "cookie2 = \"rasin\" \n",
    "len1 = len(cookie) / 2 \n",
    "len2 = len(cookie2) * 45 \n",
    "vote1 = (cookie, \"vote\", len2) \n",
    "vote2 = (cookie2, \"vote\", len1) \n",
    "votes = \"cookie has \" + str(len1) + \" and the second cookie has \" + str(len2) \n",
    "print(votes)"
   ]
  }
 ],
 "metadata": {
  "kernelspec": {
   "display_name": "Python 3.8.10 64-bit",
   "language": "python",
   "name": "python3"
  },
  "language_info": {
   "codemirror_mode": {
    "name": "ipython",
    "version": 3
   },
   "file_extension": ".py",
   "mimetype": "text/x-python",
   "name": "python",
   "nbconvert_exporter": "python",
   "pygments_lexer": "ipython3",
   "version": "3.8.10"
  },
  "orig_nbformat": 4,
  "vscode": {
   "interpreter": {
    "hash": "916dbcbb3f70747c44a77c7bcd40155683ae19c65e1c03b4aa3499c5328201f1"
   }
  }
 },
 "nbformat": 4,
 "nbformat_minor": 2
}
