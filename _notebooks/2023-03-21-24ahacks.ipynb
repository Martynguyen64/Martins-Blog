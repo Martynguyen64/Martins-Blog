{
 "cells": [
  {
   "attachments": {},
   "cell_type": "markdown",
   "metadata": {},
   "source": [
    "# Unit 2.4 Hacks\n",
    "> Creating my own database connecting to my CPT project\n",
    "- toc: true\n",
    "- comments: true\n",
    "- categories: [csp, jupyter]\n",
    "- permalink: /csp/24hackstocpt\n",
    "- tags: [python]\n",
    "- comments: true"
   ]
  },
  {
   "cell_type": "code",
   "execution_count": 2,
   "metadata": {},
   "outputs": [],
   "source": [
    "from flask import Flask\n",
    "from flask_sqlalchemy import SQLAlchemy\n",
    "\n",
    "\"\"\"\n",
    "These object and definitions are used throughout the Jupyter Notebook.\n",
    "\"\"\"\n",
    "\n",
    "# Setup of key Flask object (app)\n",
    "app = Flask(__name__)\n",
    "# Setup SQLAlchemy object and properties for the database (db)\n",
    "database = 'sqlite:///sqlitebbal.db'  # path and filename of database\n",
    "app.config['SQLALCHEMY_TRACK_MODIFICATIONS'] = False\n",
    "app.config['SQLALCHEMY_DATABASE_URI'] = database\n",
    "app.config['SECRET_KEY'] = 'SECRET_KEY'\n",
    "db = SQLAlchemy()\n",
    "\n",
    "\n",
    "# This belongs in place where it runs once per project\n",
    "db.init_app(app)"
   ]
  },
  {
   "cell_type": "code",
   "execution_count": 3,
   "metadata": {},
   "outputs": [],
   "source": [
    "import datetime\n",
    "from datetime import datetime\n",
    "import json\n",
    "\n",
    "from sqlalchemy.exc import IntegrityError\n",
    "from werkzeug.security import generate_password_hash, check_password_hash\n",
    "\n",
    "\n",
    "\n",
    "\n",
    "class User(db.Model):\n",
    "    __tablename__ = 'users'  # table name is plural, class name is singular\n",
    "\n",
    "    id = db.Column(db.Integer, primary_key=True)\n",
    "    _task = db.Column(db.String(255), unique=False, nullable=False)\n",
    "    _timeExpected = db.Column(db.String(255), unique=True, nullable=False)\n",
    "\n",
    "    \n",
    "    def __init__(self, task, timeExpected):\n",
    "\n",
    "        self._task = task    # variables with self prefix become part of the object, \n",
    "        self._timeExpected = timeExpected\n",
    "\n",
    "    @property\n",
    "    def task(self):\n",
    "        return self._task\n",
    "    \n",
    "    # a setter function, allows name to be updated after initial object creation\n",
    "    @task.setter\n",
    "    def task(self, task):\n",
    "        self._task = task\n",
    "    \n",
    "    # a getter method, extracts uid from object\n",
    "    @property\n",
    "    def timeExpected(self):\n",
    "        return self._timeExpected\n",
    "    \n",
    "    # a setter function, allows uid to be updated after initial object creation\n",
    "    @timeExpected.setter\n",
    "    def uid(self, timeExpected):\n",
    "        self._timeExpected = timeExpected\n",
    "        \n",
    "\n",
    "\n",
    "    def __str__(self):\n",
    "        return json.dumps(self.read())\n",
    "\n",
    "    # CRUD create/add a new record to the table\n",
    "    # returns self or None on error\n",
    "    def create(self):\n",
    "        try:\n",
    "            # creates a person object from User(db.Model) class, passes initializers\n",
    "            db.session.add(self)  # add prepares to persist person object to Users table\n",
    "            db.session.commit()  # SqlAlchemy \"unit of work pattern\" requires a manual commit\n",
    "            return self\n",
    "        except IntegrityError:\n",
    "            db.session.remove()\n",
    "            return None\n",
    "\n",
    "    # CRUD read converts self to dictionary\n",
    "    # returns dictionary\n",
    "    def read(self):\n",
    "        return {\n",
    "            \"id\": self.id,\n",
    "            \"task\": self.task,\n",
    "            \"timeExpected\": self.timeExpected,\n",
    "        }\n",
    "\n",
    "    # CRUD update: updates user name, password, phone\n",
    "    # returns self\n",
    "    def update(self, task=\"\", timeExpected=\"\"):\n",
    "        self.task = task\n",
    "        db.session.commit()\n",
    "        return self\n",
    "\n",
    "    # CRUD delete: remove self\n",
    "    # None\n",
    "    def delete(self):\n",
    "        db.session.delete(self)\n",
    "        db.session.commit()\n",
    "        return None\n",
    "    # just a definition"
   ]
  },
  {
   "cell_type": "code",
   "execution_count": 68,
   "metadata": {},
   "outputs": [
    {
     "name": "stdout",
     "output_type": "stream",
     "text": [
      "Created new uid 13 minutes\n",
      "Created new uid 51 minutes\n",
      "Created new uid 16 minutes\n",
      "Created new uid 17 minutes\n",
      "Created new uid 15 minutes\n",
      "Created new uid 55 minutes\n"
     ]
    }
   ],
   "source": [
    "def initUsers():\n",
    "    with app.app_context():\n",
    "        db.create_all()\n",
    "\n",
    "        u1 = User(task='Basketball', timeExpected=\"13 minutes\")\n",
    "        u2 = User(task='Track', timeExpected=\"51 minutes\")\n",
    "        u3 = User(task='math hw', timeExpected=\"16 minutes\")\n",
    "        u4 = User(task='CSP hw', timeExpected=\"17 minutes\")\n",
    "        u5 = User(task='Swim', timeExpected=\"15 minutes\")\n",
    "        u6 = User(task='Drawing', timeExpected=\"55 minutes\")\n",
    "        users = [u1, u2, u3, u4, u5, u6]\n",
    "\n",
    "        \"\"\"Builds sample user/note(s) data\"\"\"\n",
    "        for user in users:\n",
    "            try:\n",
    "                '''add user to table'''\n",
    "                object = user.create()\n",
    "                print(f\"Created new uid {object.uid}\")\n",
    "            except:  # error raised if object nit created\n",
    "                '''fails with bad or duplicate data'''\n",
    "                print(f\"Records exist uid {user.uid}, or error.\")\n",
    "                \n",
    "initUsers()"
   ]
  },
  {
   "cell_type": "code",
   "execution_count": 72,
   "metadata": {},
   "outputs": [
    {
     "data": {
      "text/plain": [
       "[{'id': 1, 'task': 'Farming', 'timeExpected': '13 minutes'},\n",
       " {'id': 2, 'task': 'Track', 'timeExpected': '51 minutes'},\n",
       " {'id': 3, 'task': 'math hw', 'timeExpected': '16 minutes'},\n",
       " {'id': 4, 'task': 'CSP hw', 'timeExpected': '17 minutes'},\n",
       " {'id': 5, 'task': 'Swim', 'timeExpected': '15 minutes'},\n",
       " {'id': 6, 'task': 'Drawing', 'timeExpected': '55 minutes'}]"
      ]
     },
     "execution_count": 72,
     "metadata": {},
     "output_type": "execute_result"
    }
   ],
   "source": [
    "def read():\n",
    "    with app.app_context():\n",
    "        table = User.query.all()\n",
    "    json_ready = [user.read() for user in table] # \"List Comprehensions\", for each user add user.read() to list\n",
    "    return json_ready\n",
    "\n",
    "read()"
   ]
  },
  {
   "cell_type": "code",
   "execution_count": 8,
   "metadata": {},
   "outputs": [],
   "source": [
    "def find_by_task(task):\n",
    "    with app.app_context():\n",
    "        user = User.query.filter_by(_task=task).first()\n",
    "    return user # returns user object"
   ]
  },
  {
   "cell_type": "code",
   "execution_count": 13,
   "metadata": {},
   "outputs": [
    {
     "name": "stdout",
     "output_type": "stream",
     "text": [
      "None\n",
      "User not found.\n",
      "new DB\n"
     ]
    },
    {
     "data": {
      "text/plain": [
       "[{'id': 1, 'task': 'Farming', 'timeExpected': '13 minutes'},\n",
       " {'id': 2, 'task': 'Track', 'timeExpected': '51 minutes'},\n",
       " {'id': 4, 'task': 'CSP hw', 'timeExpected': '17 minutes'},\n",
       " {'id': 5, 'task': 'jumping', 'timeExpected': '15 minutes'},\n",
       " {'id': 6, 'task': 'Drawing', 'timeExpected': '55 minutes'},\n",
       " {'id': 7, 'task': 'bowling', 'timeExpected': '20'},\n",
       " {'id': 8, 'task': 'jumprope', 'timeExpected': '19'},\n",
       " {'id': 9, 'task': 'bathroom', 'timeExpected': '10'},\n",
       " {'id': 10, 'task': 'code', 'timeExpected': '15'}]"
      ]
     },
     "execution_count": 13,
     "metadata": {},
     "output_type": "execute_result"
    }
   ],
   "source": [
    "def deleteuser():\n",
    "    id = input(\"enter task\")\n",
    "    user = find_by_task(id)\n",
    "    print(user)\n",
    "    if user is not None:\n",
    "        with app.app_context():\n",
    "            db.session.delete(user)  \n",
    "            db.session.commit()\n",
    "        print(\"User deleted.\")\n",
    "    else:\n",
    "        print(\"User not found.\")\n",
    "    \n",
    "deleteuser()\n",
    "print(\"new DB\")\n",
    "read()"
   ]
  },
  {
   "cell_type": "code",
   "execution_count": 12,
   "metadata": {},
   "outputs": [
    {
     "ename": "AttributeError",
     "evalue": "'NoneType' object has no attribute 'update'",
     "output_type": "error",
     "traceback": [
      "\u001b[0;31m---------------------------------------------------------------------------\u001b[0m",
      "\u001b[0;31mAttributeError\u001b[0m                            Traceback (most recent call last)",
      "\u001b[1;32m/home/alexkumar/vscode/fastpages-APCSP/_notebooks/2023-03-17-2.4Hacks.ipynb Cell 8\u001b[0m in \u001b[0;36m<cell line: 20>\u001b[0;34m()\u001b[0m\n\u001b[1;32m     <a href='vscode-notebook-cell://wsl%2Bubuntu/home/alexkumar/vscode/fastpages-APCSP/_notebooks/2023-03-17-2.4Hacks.ipynb#X10sdnNjb2RlLXJlbW90ZQ%3D%3D?line=14'>15</a>\u001b[0m     \u001b[39mreturn\u001b[39;00m json_ready\n\u001b[1;32m     <a href='vscode-notebook-cell://wsl%2Bubuntu/home/alexkumar/vscode/fastpages-APCSP/_notebooks/2023-03-17-2.4Hacks.ipynb#X10sdnNjb2RlLXJlbW90ZQ%3D%3D?line=16'>17</a>\u001b[0m read()\n\u001b[0;32m---> <a href='vscode-notebook-cell://wsl%2Bubuntu/home/alexkumar/vscode/fastpages-APCSP/_notebooks/2023-03-17-2.4Hacks.ipynb#X10sdnNjb2RlLXJlbW90ZQ%3D%3D?line=19'>20</a>\u001b[0m updateuser()\n",
      "\u001b[1;32m/home/alexkumar/vscode/fastpages-APCSP/_notebooks/2023-03-17-2.4Hacks.ipynb Cell 8\u001b[0m in \u001b[0;36mupdateuser\u001b[0;34m()\u001b[0m\n\u001b[1;32m      <a href='vscode-notebook-cell://wsl%2Bubuntu/home/alexkumar/vscode/fastpages-APCSP/_notebooks/2023-03-17-2.4Hacks.ipynb#X10sdnNjb2RlLXJlbW90ZQ%3D%3D?line=4'>5</a>\u001b[0m \u001b[39mwith\u001b[39;00m app\u001b[39m.\u001b[39mapp_context():\n\u001b[1;32m      <a href='vscode-notebook-cell://wsl%2Bubuntu/home/alexkumar/vscode/fastpages-APCSP/_notebooks/2023-03-17-2.4Hacks.ipynb#X10sdnNjb2RlLXJlbW90ZQ%3D%3D?line=5'>6</a>\u001b[0m     user \u001b[39m=\u001b[39m User\u001b[39m.\u001b[39mquery\u001b[39m.\u001b[39mfilter_by(\u001b[39mid\u001b[39m\u001b[39m=\u001b[39mid2)\u001b[39m.\u001b[39mfirst()\n\u001b[0;32m----> <a href='vscode-notebook-cell://wsl%2Bubuntu/home/alexkumar/vscode/fastpages-APCSP/_notebooks/2023-03-17-2.4Hacks.ipynb#X10sdnNjb2RlLXJlbW90ZQ%3D%3D?line=6'>7</a>\u001b[0m     user\u001b[39m.\u001b[39;49mupdate(task\u001b[39m=\u001b[39mtask2)\n\u001b[1;32m      <a href='vscode-notebook-cell://wsl%2Bubuntu/home/alexkumar/vscode/fastpages-APCSP/_notebooks/2023-03-17-2.4Hacks.ipynb#X10sdnNjb2RlLXJlbW90ZQ%3D%3D?line=7'>8</a>\u001b[0m     db\u001b[39m.\u001b[39msession\u001b[39m.\u001b[39mcommit()\n",
      "\u001b[0;31mAttributeError\u001b[0m: 'NoneType' object has no attribute 'update'"
     ]
    }
   ],
   "source": [
    "def updateuser():\n",
    "    \n",
    "    id2 = input(\"id\")\n",
    "    task2= input(\"new task\")\n",
    "    with app.app_context():\n",
    "        user = User.query.filter_by(id=id2).first()\n",
    "        user.update(task=task2)\n",
    "        db.session.commit()\n",
    "\n",
    "def read():\n",
    "    with app.app_context():\n",
    "        table = User.query.all()\n",
    "    json_ready = [user.read() for user in table] # \"List Comprehensions\", for each user add user.read() to list\n",
    "    \n",
    "    return json_ready\n",
    "\n",
    "read()\n",
    "\n",
    "\n",
    "updateuser()"
   ]
  },
  {
   "cell_type": "code",
   "execution_count": 5,
   "metadata": {},
   "outputs": [
    {
     "ename": "NameError",
     "evalue": "name 'find_by_task' is not defined",
     "output_type": "error",
     "traceback": [
      "\u001b[0;31m---------------------------------------------------------------------------\u001b[0m",
      "\u001b[0;31mNameError\u001b[0m                                 Traceback (most recent call last)",
      "\u001b[1;32m/home/alexkumar/vscode/fastpages-APCSP/_notebooks/2023-03-17-2.4Hacks.ipynb Cell 9\u001b[0m in \u001b[0;36m<cell line: 27>\u001b[0;34m()\u001b[0m\n\u001b[1;32m     <a href='vscode-notebook-cell://wsl%2Bubuntu/home/alexkumar/vscode/fastpages-APCSP/_notebooks/2023-03-17-2.4Hacks.ipynb#X11sdnNjb2RlLXJlbW90ZQ%3D%3D?line=23'>24</a>\u001b[0m         \u001b[39mexcept\u001b[39;00m:  \u001b[39m# error raised if object not created\u001b[39;00m\n\u001b[1;32m     <a href='vscode-notebook-cell://wsl%2Bubuntu/home/alexkumar/vscode/fastpages-APCSP/_notebooks/2023-03-17-2.4Hacks.ipynb#X11sdnNjb2RlLXJlbW90ZQ%3D%3D?line=24'>25</a>\u001b[0m             \u001b[39mprint\u001b[39m(\u001b[39m\"\u001b[39m\u001b[39mUnknown error uid \u001b[39m\u001b[39m{uid}\u001b[39;00m\u001b[39m\"\u001b[39m)\n\u001b[0;32m---> <a href='vscode-notebook-cell://wsl%2Bubuntu/home/alexkumar/vscode/fastpages-APCSP/_notebooks/2023-03-17-2.4Hacks.ipynb#X11sdnNjb2RlLXJlbW90ZQ%3D%3D?line=26'>27</a>\u001b[0m create()\n",
      "\u001b[1;32m/home/alexkumar/vscode/fastpages-APCSP/_notebooks/2023-03-17-2.4Hacks.ipynb Cell 9\u001b[0m in \u001b[0;36mcreate\u001b[0;34m()\u001b[0m\n\u001b[1;32m      <a href='vscode-notebook-cell://wsl%2Bubuntu/home/alexkumar/vscode/fastpages-APCSP/_notebooks/2023-03-17-2.4Hacks.ipynb#X11sdnNjb2RlLXJlbW90ZQ%3D%3D?line=1'>2</a>\u001b[0m \u001b[39mdef\u001b[39;00m \u001b[39mcreate\u001b[39m():\n\u001b[1;32m      <a href='vscode-notebook-cell://wsl%2Bubuntu/home/alexkumar/vscode/fastpages-APCSP/_notebooks/2023-03-17-2.4Hacks.ipynb#X11sdnNjb2RlLXJlbW90ZQ%3D%3D?line=2'>3</a>\u001b[0m     \u001b[39m# optimize user time to see if uid exists\u001b[39;00m\n\u001b[1;32m      <a href='vscode-notebook-cell://wsl%2Bubuntu/home/alexkumar/vscode/fastpages-APCSP/_notebooks/2023-03-17-2.4Hacks.ipynb#X11sdnNjb2RlLXJlbW90ZQ%3D%3D?line=3'>4</a>\u001b[0m     task \u001b[39m=\u001b[39m \u001b[39minput\u001b[39m(\u001b[39m\"\u001b[39m\u001b[39mEnter your task\u001b[39m\u001b[39m\"\u001b[39m)\n\u001b[0;32m----> <a href='vscode-notebook-cell://wsl%2Bubuntu/home/alexkumar/vscode/fastpages-APCSP/_notebooks/2023-03-17-2.4Hacks.ipynb#X11sdnNjb2RlLXJlbW90ZQ%3D%3D?line=4'>5</a>\u001b[0m     user \u001b[39m=\u001b[39m find_by_task(task)\n\u001b[1;32m      <a href='vscode-notebook-cell://wsl%2Bubuntu/home/alexkumar/vscode/fastpages-APCSP/_notebooks/2023-03-17-2.4Hacks.ipynb#X11sdnNjb2RlLXJlbW90ZQ%3D%3D?line=5'>6</a>\u001b[0m     \u001b[39mtry\u001b[39;00m:\n\u001b[1;32m      <a href='vscode-notebook-cell://wsl%2Bubuntu/home/alexkumar/vscode/fastpages-APCSP/_notebooks/2023-03-17-2.4Hacks.ipynb#X11sdnNjb2RlLXJlbW90ZQ%3D%3D?line=6'>7</a>\u001b[0m         \u001b[39mprint\u001b[39m(\u001b[39m\"\u001b[39m\u001b[39mFound\u001b[39m\u001b[39m\\n\u001b[39;00m\u001b[39m\"\u001b[39m, user\u001b[39m.\u001b[39mread())\n",
      "\u001b[0;31mNameError\u001b[0m: name 'find_by_task' is not defined"
     ]
    }
   ],
   "source": [
    "# Inputs, Try/Except, and SQLAlchemy work together to build a valid database object\n",
    "def create():\n",
    "    # optimize user time to see if uid exists\n",
    "    task = input(\"Enter your task\")\n",
    "    user = find_by_task(task)\n",
    "    try:\n",
    "        print(\"Found\\n\", user.read())\n",
    "        return\n",
    "    except:\n",
    "        pass # keep going\n",
    "    \n",
    "    # request value that ensure creating valid object\n",
    "    TimeExpected = input(\"Enter Time Expected\")\n",
    "    \n",
    "    # Initialize User object before date\n",
    "    user = User(task=task, \n",
    "                timeExpected=TimeExpected, \n",
    "                )\n",
    "    \n",
    "    with app.app_context():\n",
    "        try:\n",
    "            object = user.create()\n",
    "            print(\"Created\\n\", object.read())\n",
    "        except:  # error raised if object not created\n",
    "            print(\"Unknown error uid {uid}\")\n",
    "        \n",
    "create()"
   ]
  },
  {
   "attachments": {},
   "cell_type": "markdown",
   "metadata": {},
   "source": [
    "# Menu "
   ]
  },
  {
   "cell_type": "code",
   "execution_count": 15,
   "metadata": {},
   "outputs": [
    {
     "data": {
      "text/plain": [
       "[{'id': 1, 'task': 'Farming', 'timeExpected': '13 minutes'},\n",
       " {'id': 2, 'task': 'Track', 'timeExpected': '51 minutes'},\n",
       " {'id': 4, 'task': 'CSP hw', 'timeExpected': '17 minutes'},\n",
       " {'id': 5, 'task': 'jumping', 'timeExpected': '15 minutes'},\n",
       " {'id': 6, 'task': 'Drawing', 'timeExpected': '55 minutes'},\n",
       " {'id': 7, 'task': 'bowling', 'timeExpected': '20'},\n",
       " {'id': 8, 'task': 'jumprope', 'timeExpected': '19'},\n",
       " {'id': 9, 'task': 'bathroom', 'timeExpected': '10'}]"
      ]
     },
     "execution_count": 15,
     "metadata": {},
     "output_type": "execute_result"
    }
   ],
   "source": [
    "def process():\n",
    "    endpoint = input(\"r for read, d for delete, u for update, c for create\")\n",
    "    if endpoint == \"r\":\n",
    "        with app.app_context():\n",
    "            table = User.query.all()\n",
    "            json_ready = [user.read() for user in table] # \"List Comprehensions\", for each user add user.read() to list\n",
    "        return json_ready\n",
    "    elif endpoint == \"d\":\n",
    "        deleteuser()\n",
    "    elif endpoint == \"u\":\n",
    "        updateuser()\n",
    "    elif endpoint == \"c\":\n",
    "        create()\n",
    "    else:\n",
    "        print('function not found')\n",
    "\n",
    "\n",
    "process()"
   ]
  }
 ],
 "metadata": {
  "kernelspec": {
   "display_name": "base",
   "language": "python",
   "name": "python3"
  },
  "language_info": {
   "codemirror_mode": {
    "name": "ipython",
    "version": 3
   },
   "file_extension": ".py",
   "mimetype": "text/x-python",
   "name": "python",
   "nbconvert_exporter": "python",
   "pygments_lexer": "ipython3",
   "version": "3.9.12"
  },
  "orig_nbformat": 4
 },
 "nbformat": 4,
 "nbformat_minor": 2
}
