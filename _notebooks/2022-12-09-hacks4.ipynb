{
 "cells": [
  {
   "attachments": {},
   "cell_type": "markdown",
   "metadata": {},
   "source": [
    "# 3.9 and 3.11 Hacks\n",
    "- title: 3.9 and 3.11 Hacks\n",
    "- toc: true \n",
    "- badges: true\n",
    "- comments: true"
   ]
  },
  {
   "attachments": {},
   "cell_type": "markdown",
   "metadata": {},
   "source": [
    "# Required Hack:"
   ]
  },
  {
   "cell_type": "code",
   "execution_count": 3,
   "metadata": {},
   "outputs": [
    {
     "name": "stdout",
     "output_type": "stream",
     "text": [
      "Number 1 is  10\n",
      "Number 2 is  4\n",
      "Number 3 is  14\n",
      "14\n"
     ]
    }
   ],
   "source": [
    "import random \n",
    "numList = []  \n",
    "number = 0\n",
    "\n",
    "\n",
    "for i in range(3):\n",
    "    numList.append(random.randint(1, 20))\n",
    "    print(\"Number\", str(i+1),\"is \", str(numList[i]))\n",
    "    if(numList[i] > number):\n",
    "        number = numList[i]\n",
    "print(str(number))"
   ]
  }
 ],
 "metadata": {
  "kernelspec": {
   "display_name": "Python 3",
   "language": "python",
   "name": "python3"
  },
  "language_info": {
   "codemirror_mode": {
    "name": "ipython",
    "version": 3
   },
   "file_extension": ".py",
   "mimetype": "text/x-python",
   "name": "python",
   "nbconvert_exporter": "python",
   "pygments_lexer": "ipython3",
   "version": "3.8.10"
  },
  "orig_nbformat": 4,
  "vscode": {
   "interpreter": {
    "hash": "916dbcbb3f70747c44a77c7bcd40155683ae19c65e1c03b4aa3499c5328201f1"
   }
  }
 },
 "nbformat": 4,
 "nbformat_minor": 2
}
