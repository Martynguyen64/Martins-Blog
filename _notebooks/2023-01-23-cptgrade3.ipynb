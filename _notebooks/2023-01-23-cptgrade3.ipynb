{
 "cells": [
  {
   "attachments": {},
   "cell_type": "markdown",
   "metadata": {},
   "source": [
    "\n",
    "# Grading Assignment #3\n",
    "- title: CPT Grading #3\n",
    "- toc: true\n",
    "- categories: [collegeboard]"
   ]
  },
  {
   "attachments": {},
   "cell_type": "markdown",
   "metadata": {},
   "source": [
    "## Submission 1 \n",
    "\n",
    "Section|Score|Explanation|College board Score|\n",
    "--| -- | -- |-- |\n",
    "1 |1|There is a function and a purpose which are correct showing the outputs as a game of rock paper scissors |College Board gave the point due to the fact all was correct |\n",
    "2| 0 | Shows how he used RP5 to store data but didnt use the code segment in the actual function| Collegeboard didnt they diddnt acsess data from the list so there was no storage.| \n",
    "3 | 0 |the data and code that was atempted to be written was not able to be simplified without it being complex as they could have used conditionals |They didnt give a point as the data could have been used within a list and conditional|\n",
    "4 |0| only one parameter set which didnt serve purpose for code which didnt meet requirements for as it was stated to move the process smoothly  |No point was given as it didnt have peramaters and funcitionaly through the code|\n",
    "5 |1 |Had an if statement known as RPS which meant that |A point was given as the algorithms and conditionals were used |\n",
    "6 |1| The app was tested very well and it included all parts of testing for the app| College Board also gave this person a 1 as the testing works and the application is valid.|"
   ]
  },
  {
   "attachments": {},
   "cell_type": "markdown",
   "metadata": {},
   "source": [
    "## Submission 2\n",
    "Section|Score|Explanation|College board Score|\n",
    "--| -- | -- |-- |\n",
    "1 |1| Video had a clear input and output which is required also purpose is clear in the written explanation. As it is to serve as entertainment for the user|College board gave the point as all work was clear and consise and completely included|\n",
    "2| 1 | The response shows how data is store in order to itterate the list of letofguessword which stores data and is acsess througout the code.| Collegeboard gave him a point because the code segments displayed were accurate and it stored correct data| \n",
    "3 | 1 | It used the game for the user to guess the word and kept a data storage which made it simple|It was given a 1 since they used to guess word to the user which kept everything simpler|\n",
    "4 |1 | Guess word parameter was usen giving it a 1  | College board gave the point due to the fact the program was developed accurate and purposeful with the many parameters leaving the user to guess the word|\n",
    "5 |1 |Repeated loop with replace list meeting the criteria. Also used booleans to check true or false in order to keep word accuracy |College board gave the 1 due to the fact the loops and many parameters implemented a lot of algorithms with accuracy|\n",
    "6 |1| The word guessser was very good and all part were correct| College Board also gave this person a 1 as the testing works and the application is valid.|\n"
   ]
  },
  {
   "attachments": {},
   "cell_type": "markdown",
   "metadata": {},
   "source": [
    "## Submission 3\n",
    "Section|Score|Explanation|College board Score|\n",
    "--| -- | -- |-- |\n",
    "1 |1| Video had a clear input and output which is required also the response contained clear funtion/purpose.|A point was given as written respnse and inpus/outputs met criteria.|\n",
    "2| 0 | A list was made but data storage wasnt used| Collegeboard didnt give the point as the data wasnt being pulled out from anywhere leaving there to be nothing put into the data.| \n",
    "3 | 0|it doesent talk about managing complexity as it only talks about using a list |No point was given due to the fact no data storage was used|\n",
    "4 |0 |No parameters were used with left there no procedures  | No point as all the critera was not met|\n",
    "5 |0 |They use update screen however no other algorthms were used leaving the code to be pointless|No point given as code was inacurate for this criteria|\n",
    "6 |0| The app was tested very well and it included all parts of testing for the app the point| College board didnt give the point as they beleived the app was not doing as said which is why a 0 was given| "
   ]
  },
  {
   "attachments": {},
   "cell_type": "markdown",
   "metadata": {},
   "source": [
    "# Submision 4 \n",
    "\n",
    "Section|Score|Explanation|College board Score|\n",
    "--| -- | -- |-- |\n",
    "1 |1|Purpose and fucntion were defined correclty and inputs and outputs were shown with the use of moving keys to fish|All criteria was met giving the student a point|\n",
    "2| 1 |uses a list called fish types which show how data is stored leaving to be kept in one area with distinct characteristics|A point was given due to the fact the person kept the data collected form the game| \n",
    "3 | 1 |the data and code used a list of lists to keep everthing simple rather than using multiple lists and procedures |The point was given as code was broken down into simpler parts.|\n",
    "4 |1| had clone movement parameter which kept everything runnig and with procedures  |A point was given as the code contained parameters |\n",
    "5 |1 |An algorithm for height and movement for set keeping game moving which met all criteria | point given as the loop was showed purpose and a funtion with the movement clone and rage  |\n",
    "6 |1| explanation differs from the code and parameters set which doesent meet criteria | College Board didnt give point as the explanation was weak and dodnt correlate with the game.|"
   ]
  }
 ],
 "metadata": {
  "kernelspec": {
   "display_name": "Python 3",
   "language": "python",
   "name": "python3"
  },
  "language_info": {
   "name": "python",
   "version": "3.8.10 (default, Jun 22 2022, 20:18:18) \n[GCC 9.4.0]"
  },
  "orig_nbformat": 4,
  "vscode": {
   "interpreter": {
    "hash": "916dbcbb3f70747c44a77c7bcd40155683ae19c65e1c03b4aa3499c5328201f1"
   }
  }
 },
 "nbformat": 4,
 "nbformat_minor": 2
}
