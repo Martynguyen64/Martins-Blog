{
 "cells": [
  {
   "cell_type": "markdown",
   "metadata": {},
   "source": [
    "# Week 1 Portfolio\n",
    "- title : Week 1 Portfolio\n",
    "- toc: true \n",
    "- badges: true\n",
    "- comments: true"
   ]
  },
  {
   "cell_type": "markdown",
   "metadata": {},
   "source": [
    "# Variables, Assignments, Data Abstraction\n",
    "## Variables\n",
    "- Abstraction insde a program that can hold a value\n",
    "- Organizes data with a name\n",
    "- Consist of name, value, type\n",
    "- Understanding of code is through name of variables\n",
    "- Types of data:\n",
    "    - Interger, String, Boolean\n",
    "    - List can also be stored in variables \n",
    "        - Print/retreive specific values\n",
    "        - easily able to add and remove values\n",
    "\n",
    "## Assignments\n",
    "- Assignment operator allows program to change value represented by variable\n",
    "    - =, +=, -=, *=, /=, **=\n",
    "\n",
    "## Data Abstraction\n",
    "- Method used in coding to usefully represent data\n",
    "- Variables and list are primary tools\n",
    "- Provides seperation btw abstract properties of a data type and concrete details of its representation\n",
    "\n",
    "# Algorithms\n",
    "- Sequencing\n",
    "    - Algorithms do tasks in the order of specification.\n",
    "- Selection\n",
    "    -  Helps choose two different outcomes based off a decision.\n",
    "- Iteration\n",
    "    - If a condition is true, then the code can repeat.\n",
    "- Flowcharts\n",
    "    - Use shapes and arrows to represent the steps of an algorithm.\n",
    "- Pseudocode\n",
    "    - A blend of human language and coding format.\n",
    "\n",
    "# Arithmetic Operation\n",
    "- Arithmetic operations exist in most programming languages.\n",
    "- subtraction (-)\n",
    "- addition (+)\n",
    "- multiplication (*)\n",
    "- division (/)\n",
    "- Getting the remainder (%)\n",
    "- ORDER OF OPERATIONS is crucial\n",
    "    - reassigning variables using operations on other variables can get confusing\n",
    "- PAY ATTENTION TO SEQUENCING SO OPERATIONS OF VARIABLES DONT GET MESSED UP\n",
    "- Track varaibles (common question in AP Exam)\n",
    "\n",
    "# String\n",
    "- A string is a collection of characters. What is a character as character can be anything from numbers, letters, spaces, special symbols, etc.\n",
    "- len () : to find the length of a string\n",
    "- lower () : to convert to lowercase\n",
    "- concat (): in pseudocode and varys from language to language can be used to combine to strings"
   ]
  }
 ],
 "metadata": {
  "kernelspec": {
   "display_name": "Python 3.8.10 64-bit",
   "language": "python",
   "name": "python3"
  },
  "language_info": {
   "name": "python",
   "version": "3.8.10"
  },
  "orig_nbformat": 4,
  "vscode": {
   "interpreter": {
    "hash": "916dbcbb3f70747c44a77c7bcd40155683ae19c65e1c03b4aa3499c5328201f1"
   }
  }
 },
 "nbformat": 4,
 "nbformat_minor": 2
}
