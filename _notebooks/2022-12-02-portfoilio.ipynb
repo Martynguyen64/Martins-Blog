{
 "cells": [
  {
   "cell_type": "code",
   "execution_count": null,
   "metadata": {},
   "outputs": [],
   "source": [
    "# Week 1 Portfolio\n",
    "- title : Week 1 Portfolio\n",
    "- toc: true \n",
    "- badges: true\n",
    "- comments: true"
   ]
  },
  {
   "cell_type": "markdown",
   "metadata": {},
   "source": [
    "# Variables, Assignments, Data Abstraction\n",
    "## Variables\n",
    "- Abstraction insde a program that can hold a value\n",
    "- Organizes data with a name\n",
    "- Consist of name, value, type\n",
    "- Understanding of code is through name of variables\n",
    "- Types of data:\n",
    "    - Interger, String, Boolean\n",
    "    - List can also be stored in variables \n",
    "        - Print/retreive specific values\n",
    "        - easily able to add and remove values\n",
    "\n",
    "## Assignments\n",
    "- Assignment operator allows program to change value represented by variable\n",
    "    - =, +=, -=, *=, /=, **=\n",
    "\n",
    "## Data Abstraction\n",
    "- Method used in coding to usefully represent data\n",
    "- Variables and list are primary tools\n",
    "- Provides seperation btw abstract properties of a data type and concrete details of its representation"
   ]
  },
  {
   "cell_type": "code",
   "execution_count": null,
   "metadata": {},
   "outputs": [],
   "source": []
  }
 ],
 "metadata": {
  "kernelspec": {
   "display_name": "Python 3.8.10 64-bit",
   "language": "python",
   "name": "python3"
  },
  "language_info": {
   "name": "python",
   "version": "3.8.10"
  },
  "orig_nbformat": 4,
  "vscode": {
   "interpreter": {
    "hash": "916dbcbb3f70747c44a77c7bcd40155683ae19c65e1c03b4aa3499c5328201f1"
   }
  }
 },
 "nbformat": 4,
 "nbformat_minor": 2
}
