{
 "cells": [
  {
   "cell_type": "markdown",
   "metadata": {},
   "source": [
    "# Python NBA Quiz\n",
    "> NBA Quiz\n",
    "\n",
    "- toc: true \n",
    "- badges: true\n",
    "- title: Python NBA Quiz\n",
    "- comments: true\n",
    "- categories: [Python]"
   ]
  },
  {
   "cell_type": "code",
   "execution_count": 3,
   "metadata": {},
   "outputs": [
    {
     "name": "stdout",
     "output_type": "stream",
     "text": [
      "Question: What team does Lebron James play for?\n",
      "Answer: Lakers\n",
      "Correct Answer\n",
      "Question: What team does Kevin Durant play for?\n",
      "Answer: Nets\n",
      "Correct Answer\n",
      "Question: What team does Stephen Curry play for?\n",
      "Answer: Warriors\n",
      "Correct Answer\n",
      "Question: Who won the 2022 NBA Championship?\n",
      "Answer: Warriors\n",
      "Correct Answer\n",
      "Question: Who is the G.O.A.T?\n",
      "Answer: Michael Jordan\n",
      "Correct Answer\n",
      "5 Answers correct\n"
     ]
    }
   ],
   "source": [
    "import getpass, sys\n",
    "\n",
    "questions = 5\n",
    "correct = 0\n",
    "\n",
    "def question_and_answer(prompt, answer):\n",
    "    print(\"Question: \" + prompt)\n",
    "    msg = input()\n",
    "    print(\"Answer: \" + msg)\n",
    "\n",
    "    if answer == msg:\n",
    "        print(\"Correct Answer\")\n",
    "        global correct\n",
    "        correct+=1\n",
    "    else:\n",
    "        print (\"Incorrect Answer\")\n",
    " \n",
    "question_and_answer(\"What team does Lebron James play for?\", \"Lakers\")\n",
    "question_and_answer(\"What team does Kevin Durant play for?\", \"Nets\")\n",
    "question_and_answer(\"What team does Stephen Curry play for?\", \"Warriors\")\n",
    "question_and_answer(\"Who won the 2022 NBA Championship?\", \"Warriors\")\n",
    "question_and_answer(\"Who is the G.O.A.T?\", \"Michael Jordan\")\n",
    "\n",
    "\n",
    "print(correct, \"Answers correct\")"
   ]
  }
 ],
 "metadata": {
  "kernelspec": {
   "display_name": "JavaScript (Node.js)",
   "language": "javascript",
   "name": "javascript"
  },
  "language_info": {
   "codemirror_mode": {
    "name": "ipython",
    "version": 3
   },
   "file_extension": ".py",
   "mimetype": "text/x-python",
   "name": "javascript",
   "nbconvert_exporter": "python",
   "pygments_lexer": "ipython3",
   "version": "3.8.10"
  },
  "orig_nbformat": 4,
  "vscode": {
   "interpreter": {
    "hash": "916dbcbb3f70747c44a77c7bcd40155683ae19c65e1c03b4aa3499c5328201f1"
   }
  }
 },
 "nbformat": 4,
 "nbformat_minor": 2
}
